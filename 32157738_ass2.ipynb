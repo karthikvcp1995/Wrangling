{
 "cells": [
  {
   "cell_type": "markdown",
   "metadata": {},
   "source": [
    "# FIT 5196 : Assignment 2\n",
    "\n",
    "#### Name : Potluri Karthik Venkat Chowdary\n",
    "\n",
    "#### Student ID : 32157738\n",
    "\n"
   ]
  },
  {
   "cell_type": "markdown",
   "metadata": {},
   "source": [
    "## Data Cleansing\n",
    "\n",
    "### 1. Introduction\n",
    "\n",
    "Cleaning and organising data forms a very importnat part of the data wrangling process. Data cleaning is the process of fixing or removing incorrect, corrupted, incorrectly formatted, duplicate, or incomplete data within a dataset.  Formally, data cleansing is defined as the process of detecting and correcting (or removing) corrupt or inaccurate records from a record set, table, or database. Data cleansing can also be referred to as data cleaning, data scrubbing, or data reconciliation. More precisely, the process of data cleansing could be explained as a four stage process:\n",
    "1. Define and identify errors in data such as incompleteness, incorrectness, inaccuracy or irrelevancy\n",
    "2. Clean and rectify these error by replacing, modifying, or deleting them\n",
    "3. Document error instances and error types; and finally\n",
    "4. Measure and verify to see whether the cleansing meets the user's specified tolerance limits in terms of cleanliness.\n",
    "\n"
   ]
  },
  {
   "cell_type": "markdown",
   "metadata": {},
   "source": [
    "<img src=\"1_adLKKx_Z8FBTN62srHte_w.jpeg\" width=\"400\">"
   ]
  },
  {
   "cell_type": "markdown",
   "metadata": {},
   "source": [
    "### 2. Data Description\n",
    "\n",
    "The dataset contains Furniture Delivery data from an online furniture store in Melbourne, Australia. The furniture store has five branches around Melbourne area. All five branches share the same catalogs but they have different management so they operate differently. Each instance of the data represents a single order from the online furniture store.\n",
    "\n",
    "### 3. Import Libraries \n",
    "\n",
    "We will be using various libraries in this process "
   ]
  },
  {
   "cell_type": "code",
   "execution_count": 11,
   "metadata": {},
   "outputs": [],
   "source": [
    "import pandas as pd\n",
    "import regex as re\n",
    "import datetime\n",
    "import math as math\n",
    "import numpy as np\n",
    "import matplotlib.pyplot as plt\n",
    "from sklearn.feature_extraction import DictVectorizer\n",
    "import seaborn as sns"
   ]
  },
  {
   "cell_type": "markdown",
   "metadata": {},
   "source": [
    "## Dirty Data\n",
    "\n",
    "Dirty data is a dataset with errors. These errors might have caused due to entry error by humans, or record duplication and improper parsing of data. \n",
    "\n",
    "### a. Reading Data\n",
    "The data is present in the file \"32157738_dirty_data.csv\" file. This csv file can be parsed using pandas into a dataframe. Let us call this dataframe **\"dirty_data\"** . "
   ]
  },
  {
   "cell_type": "code",
   "execution_count": 12,
   "metadata": {},
   "outputs": [],
   "source": [
    "dirty_data = pd.read_csv(\"./32157738_dirty_data.csv\")"
   ]
  },
  {
   "cell_type": "code",
   "execution_count": 13,
   "metadata": {},
   "outputs": [
    {
     "data": {
      "text/plain": [
       "500"
      ]
     },
     "execution_count": 13,
     "metadata": {},
     "output_type": "execute_result"
    }
   ],
   "source": [
    "len(dirty_data)"
   ]
  },
  {
   "cell_type": "code",
   "execution_count": 14,
   "metadata": {
    "scrolled": true
   },
   "outputs": [
    {
     "data": {
      "text/html": [
       "<div>\n",
       "<style scoped>\n",
       "    .dataframe tbody tr th:only-of-type {\n",
       "        vertical-align: middle;\n",
       "    }\n",
       "\n",
       "    .dataframe tbody tr th {\n",
       "        vertical-align: top;\n",
       "    }\n",
       "\n",
       "    .dataframe thead th {\n",
       "        text-align: right;\n",
       "    }\n",
       "</style>\n",
       "<table border=\"1\" class=\"dataframe\">\n",
       "  <thead>\n",
       "    <tr style=\"text-align: right;\">\n",
       "      <th></th>\n",
       "      <th>sales_id</th>\n",
       "      <th>date</th>\n",
       "      <th>time</th>\n",
       "      <th>shopping_cart</th>\n",
       "      <th>price</th>\n",
       "      <th>parcel_size</th>\n",
       "      <th>Customer_lat</th>\n",
       "      <th>Customer_long</th>\n",
       "      <th>isLoyaltyProgram</th>\n",
       "      <th>nearest_storehouse_id</th>\n",
       "      <th>nearest_storehouse</th>\n",
       "      <th>dist_to_nearest_storehouse</th>\n",
       "      <th>delivery_cost</th>\n",
       "    </tr>\n",
       "  </thead>\n",
       "  <tbody>\n",
       "    <tr>\n",
       "      <th>0</th>\n",
       "      <td>ORD0098289</td>\n",
       "      <td>23/08/2018</td>\n",
       "      <td>13:20:09</td>\n",
       "      <td>[('wardrobe', 3), ('Study_table', 1), ('mattre...</td>\n",
       "      <td>3947.95</td>\n",
       "      <td>small</td>\n",
       "      <td>145.13263</td>\n",
       "      <td>-37.97401</td>\n",
       "      <td>1</td>\n",
       "      <td>4</td>\n",
       "      <td>Sunshine</td>\n",
       "      <td>26.30</td>\n",
       "      <td>5.7555</td>\n",
       "    </tr>\n",
       "    <tr>\n",
       "      <th>1</th>\n",
       "      <td>ORD0059355</td>\n",
       "      <td>10/06/2021</td>\n",
       "      <td>39:03:49</td>\n",
       "      <td>[('sofa', 3), ('Study_table', 1), ('wardrobe',...</td>\n",
       "      <td>5905.28</td>\n",
       "      <td>large</td>\n",
       "      <td>-37.44465</td>\n",
       "      <td>146.06201</td>\n",
       "      <td>0</td>\n",
       "      <td>4</td>\n",
       "      <td>Sunshine</td>\n",
       "      <td>109.22</td>\n",
       "      <td>6.3135</td>\n",
       "    </tr>\n",
       "    <tr>\n",
       "      <th>2</th>\n",
       "      <td>ORD0047399</td>\n",
       "      <td>17/01/2018</td>\n",
       "      <td>54:00:19</td>\n",
       "      <td>[('bed', 3), ('Chair', 2), ('mattress', 4)]</td>\n",
       "      <td>3208.60</td>\n",
       "      <td>small</td>\n",
       "      <td>-37.70571</td>\n",
       "      <td>144.67023</td>\n",
       "      <td>1</td>\n",
       "      <td>2</td>\n",
       "      <td>Footscray</td>\n",
       "      <td>30.83</td>\n",
       "      <td>16.5465</td>\n",
       "    </tr>\n",
       "    <tr>\n",
       "      <th>3</th>\n",
       "      <td>ORD0017839</td>\n",
       "      <td>25/09/2020</td>\n",
       "      <td>10:04:42</td>\n",
       "      <td>[('Study_table', 3), ('side_table', 1), ('sofa...</td>\n",
       "      <td>4181.73</td>\n",
       "      <td>L</td>\n",
       "      <td>-38.12096</td>\n",
       "      <td>144.48595</td>\n",
       "      <td>0</td>\n",
       "      <td>2</td>\n",
       "      <td>Footscray</td>\n",
       "      <td>56.47</td>\n",
       "      <td>18.5895</td>\n",
       "    </tr>\n",
       "    <tr>\n",
       "      <th>4</th>\n",
       "      <td>ORD0085472</td>\n",
       "      <td>21/10/2019</td>\n",
       "      <td>07:24:16</td>\n",
       "      <td>[('bed', 1), ('Chair', 2), ('Study_table', 4),...</td>\n",
       "      <td>948.18</td>\n",
       "      <td>small</td>\n",
       "      <td>-37.90113</td>\n",
       "      <td>145.21092</td>\n",
       "      <td>1</td>\n",
       "      <td>6</td>\n",
       "      <td>Sunshine</td>\n",
       "      <td>27.95</td>\n",
       "      <td>5.8635</td>\n",
       "    </tr>\n",
       "  </tbody>\n",
       "</table>\n",
       "</div>"
      ],
      "text/plain": [
       "     sales_id        date      time  \\\n",
       "0  ORD0098289  23/08/2018  13:20:09   \n",
       "1  ORD0059355  10/06/2021  39:03:49   \n",
       "2  ORD0047399  17/01/2018  54:00:19   \n",
       "3  ORD0017839  25/09/2020  10:04:42   \n",
       "4  ORD0085472  21/10/2019  07:24:16   \n",
       "\n",
       "                                       shopping_cart    price parcel_size  \\\n",
       "0  [('wardrobe', 3), ('Study_table', 1), ('mattre...  3947.95       small   \n",
       "1  [('sofa', 3), ('Study_table', 1), ('wardrobe',...  5905.28       large   \n",
       "2        [('bed', 3), ('Chair', 2), ('mattress', 4)]  3208.60       small   \n",
       "3  [('Study_table', 3), ('side_table', 1), ('sofa...  4181.73           L   \n",
       "4  [('bed', 1), ('Chair', 2), ('Study_table', 4),...   948.18       small   \n",
       "\n",
       "   Customer_lat  Customer_long  isLoyaltyProgram  nearest_storehouse_id  \\\n",
       "0     145.13263      -37.97401                 1                      4   \n",
       "1     -37.44465      146.06201                 0                      4   \n",
       "2     -37.70571      144.67023                 1                      2   \n",
       "3     -38.12096      144.48595                 0                      2   \n",
       "4     -37.90113      145.21092                 1                      6   \n",
       "\n",
       "  nearest_storehouse  dist_to_nearest_storehouse  delivery_cost  \n",
       "0           Sunshine                       26.30         5.7555  \n",
       "1           Sunshine                      109.22         6.3135  \n",
       "2          Footscray                       30.83        16.5465  \n",
       "3          Footscray                       56.47        18.5895  \n",
       "4           Sunshine                       27.95         5.8635  "
      ]
     },
     "execution_count": 14,
     "metadata": {},
     "output_type": "execute_result"
    }
   ],
   "source": [
    "dirty_data.head()"
   ]
  },
  {
   "cell_type": "markdown",
   "metadata": {},
   "source": [
    "- Data has 500 rows of information, each row being identified by sales_id.\n",
    "- We have date that needs to be in the format of 'DD/MM/YY' and time that needs to be in 'hh/mm/ss' format.\n",
    "- We have order item and their respective quantity and the total bill in shopping_cart and price respectively.\n",
    "- We have parcel_size column that should have parcel size as \"small\",\"meidum\" or \"Large\".\n",
    "- Then we have customer latitude and logitude, and a isLoyaltyProgram that checks if the customer is a part of the loyalty program.\n",
    "- Then nearest_storehouse_id and nearest_storehouse to denote the nearest store house.\n",
    "- dist_to_nearest_storehouse has the distance to the nearest store house and then delivery cost in delivery_cost."
   ]
  },
  {
   "cell_type": "code",
   "execution_count": 15,
   "metadata": {},
   "outputs": [
    {
     "data": {
      "text/html": [
       "<div>\n",
       "<style scoped>\n",
       "    .dataframe tbody tr th:only-of-type {\n",
       "        vertical-align: middle;\n",
       "    }\n",
       "\n",
       "    .dataframe tbody tr th {\n",
       "        vertical-align: top;\n",
       "    }\n",
       "\n",
       "    .dataframe thead th {\n",
       "        text-align: right;\n",
       "    }\n",
       "</style>\n",
       "<table border=\"1\" class=\"dataframe\">\n",
       "  <thead>\n",
       "    <tr style=\"text-align: right;\">\n",
       "      <th></th>\n",
       "      <th>price</th>\n",
       "      <th>Customer_lat</th>\n",
       "      <th>Customer_long</th>\n",
       "      <th>isLoyaltyProgram</th>\n",
       "      <th>nearest_storehouse_id</th>\n",
       "      <th>dist_to_nearest_storehouse</th>\n",
       "      <th>delivery_cost</th>\n",
       "    </tr>\n",
       "  </thead>\n",
       "  <tbody>\n",
       "    <tr>\n",
       "      <th>count</th>\n",
       "      <td>500.000000</td>\n",
       "      <td>500.000000</td>\n",
       "      <td>500.000000</td>\n",
       "      <td>500.000000</td>\n",
       "      <td>500.000000</td>\n",
       "      <td>500.000000</td>\n",
       "      <td>500.000000</td>\n",
       "    </tr>\n",
       "    <tr>\n",
       "      <th>mean</th>\n",
       "      <td>3103.042780</td>\n",
       "      <td>10.447203</td>\n",
       "      <td>96.921702</td>\n",
       "      <td>0.512000</td>\n",
       "      <td>3.772000</td>\n",
       "      <td>62.999640</td>\n",
       "      <td>10.316209</td>\n",
       "    </tr>\n",
       "    <tr>\n",
       "      <th>std</th>\n",
       "      <td>1264.703146</td>\n",
       "      <td>80.871884</td>\n",
       "      <td>80.860036</td>\n",
       "      <td>0.500357</td>\n",
       "      <td>1.321935</td>\n",
       "      <td>28.966575</td>\n",
       "      <td>5.877895</td>\n",
       "    </tr>\n",
       "    <tr>\n",
       "      <th>min</th>\n",
       "      <td>353.440000</td>\n",
       "      <td>-38.495180</td>\n",
       "      <td>-38.497270</td>\n",
       "      <td>0.000000</td>\n",
       "      <td>0.000000</td>\n",
       "      <td>4.550000</td>\n",
       "      <td>5.242500</td>\n",
       "    </tr>\n",
       "    <tr>\n",
       "      <th>25%</th>\n",
       "      <td>2165.640000</td>\n",
       "      <td>-38.119150</td>\n",
       "      <td>-37.466948</td>\n",
       "      <td>0.000000</td>\n",
       "      <td>3.000000</td>\n",
       "      <td>40.797500</td>\n",
       "      <td>6.187500</td>\n",
       "    </tr>\n",
       "    <tr>\n",
       "      <th>50%</th>\n",
       "      <td>3100.340000</td>\n",
       "      <td>-37.716565</td>\n",
       "      <td>144.954905</td>\n",
       "      <td>1.000000</td>\n",
       "      <td>4.000000</td>\n",
       "      <td>59.765000</td>\n",
       "      <td>6.876000</td>\n",
       "    </tr>\n",
       "    <tr>\n",
       "      <th>75%</th>\n",
       "      <td>4030.320000</td>\n",
       "      <td>144.536500</td>\n",
       "      <td>145.566460</td>\n",
       "      <td>1.000000</td>\n",
       "      <td>4.000000</td>\n",
       "      <td>81.135000</td>\n",
       "      <td>17.347500</td>\n",
       "    </tr>\n",
       "    <tr>\n",
       "      <th>max</th>\n",
       "      <td>6468.850000</td>\n",
       "      <td>146.188340</td>\n",
       "      <td>146.190060</td>\n",
       "      <td>1.000000</td>\n",
       "      <td>6.000000</td>\n",
       "      <td>128.260000</td>\n",
       "      <td>28.215900</td>\n",
       "    </tr>\n",
       "  </tbody>\n",
       "</table>\n",
       "</div>"
      ],
      "text/plain": [
       "             price  Customer_lat  Customer_long  isLoyaltyProgram  \\\n",
       "count   500.000000    500.000000     500.000000        500.000000   \n",
       "mean   3103.042780     10.447203      96.921702          0.512000   \n",
       "std    1264.703146     80.871884      80.860036          0.500357   \n",
       "min     353.440000    -38.495180     -38.497270          0.000000   \n",
       "25%    2165.640000    -38.119150     -37.466948          0.000000   \n",
       "50%    3100.340000    -37.716565     144.954905          1.000000   \n",
       "75%    4030.320000    144.536500     145.566460          1.000000   \n",
       "max    6468.850000    146.188340     146.190060          1.000000   \n",
       "\n",
       "       nearest_storehouse_id  dist_to_nearest_storehouse  delivery_cost  \n",
       "count             500.000000                  500.000000     500.000000  \n",
       "mean                3.772000                   62.999640      10.316209  \n",
       "std                 1.321935                   28.966575       5.877895  \n",
       "min                 0.000000                    4.550000       5.242500  \n",
       "25%                 3.000000                   40.797500       6.187500  \n",
       "50%                 4.000000                   59.765000       6.876000  \n",
       "75%                 4.000000                   81.135000      17.347500  \n",
       "max                 6.000000                  128.260000      28.215900  "
      ]
     },
     "execution_count": 15,
     "metadata": {},
     "output_type": "execute_result"
    }
   ],
   "source": [
    "dirty_data.describe()"
   ]
  },
  {
   "cell_type": "markdown",
   "metadata": {},
   "source": [
    "### b. Identifying and fixing data issues.\n",
    "\n",
    "- Since we know that each row can have only one error, we can mark the rows that we corrected and ignore them for the next steps.\n",
    "- Let us include a new column \"corrected\" and set it to zero initially."
   ]
  },
  {
   "cell_type": "code",
   "execution_count": 16,
   "metadata": {},
   "outputs": [],
   "source": [
    "dirty_data['corrected']  = 0"
   ]
  },
  {
   "cell_type": "markdown",
   "metadata": {},
   "source": [
    "- Now we are done with that let us get the unique values for sizes and see what all values exist."
   ]
  },
  {
   "cell_type": "markdown",
   "metadata": {},
   "source": [
    "#### i) Parcel Size:\n",
    "- From the above dataset one thing that is very easy to locate and check would be the size.\n",
    "- In one of the rows above we can see that a column has size as L. However we know that sizes are only allowed to be \"small\", \"medium\", \"large\"\n",
    "- Let us check the unique values that are present in the parcel_size column."
   ]
  },
  {
   "cell_type": "code",
   "execution_count": 17,
   "metadata": {},
   "outputs": [
    {
     "data": {
      "text/plain": [
       "array(['small', 'large', 'L', 'medium', 'S', 'M'], dtype=object)"
      ]
     },
     "execution_count": 17,
     "metadata": {},
     "output_type": "execute_result"
    }
   ],
   "source": [
    "dirty_data['parcel_size'].unique()"
   ]
  },
  {
   "cell_type": "markdown",
   "metadata": {},
   "source": [
    "- From the above result it is clear that the some of the orders have parcel size wrong we will have to substitute, Large for L, Meidum for M and Small for S.\n",
    "- We will be using a for loop to go through each row and check if the parcel_size has 'L' , 'M' or 'S' in it and change them accordingly.\n",
    "- During the same we will be changing the value of corrected column from 0 to 1 in rows where we are making changes."
   ]
  },
  {
   "cell_type": "code",
   "execution_count": 18,
   "metadata": {},
   "outputs": [],
   "source": [
    "#iterating the entire dataset\n",
    "for i in range(len(dirty_data)):\n",
    "    if(dirty_data['parcel_size'][i] == 'L'):          #Checkinf for L\n",
    "        dirty_data.at[i, 'parcel_size'] = 'large'  \n",
    "        dirty_data.at[i, 'corrected'] = 1             \n",
    "    elif(dirty_data['parcel_size'][i] == 'M'):        #Checkinf for M \n",
    "        dirty_data.at[i, 'parcel_size'] = 'medium'    \n",
    "        dirty_data.at[i, 'corrected'] = 1\n",
    "    elif(dirty_data['parcel_size'][i] == 'S'):        #Checkinf for S\n",
    "        dirty_data.at[i, 'parcel_size'] = 'small'\n",
    "        dirty_data.at[i, 'corrected'] = 1\n",
    "    else:\n",
    "        continue\n",
    "        \n",
    "        \n",
    "        "
   ]
  },
  {
   "cell_type": "markdown",
   "metadata": {},
   "source": [
    "- We have changed every row with the correct value for parcel_size and marked them accordingly in 'corrected' column.\n",
    "\n",
    "#### ii) Nearest Store House\n",
    "\n",
    "We have 5 stores and their ids given to us in the 'Storehouses' file .Let us parse that file using pandas and call it 'store_house'. Next we will go with unique store house id and nearest store house and check if they match each other. "
   ]
  },
  {
   "cell_type": "code",
   "execution_count": 19,
   "metadata": {},
   "outputs": [
    {
     "data": {
      "text/html": [
       "<div>\n",
       "<style scoped>\n",
       "    .dataframe tbody tr th:only-of-type {\n",
       "        vertical-align: middle;\n",
       "    }\n",
       "\n",
       "    .dataframe tbody tr th {\n",
       "        vertical-align: top;\n",
       "    }\n",
       "\n",
       "    .dataframe thead th {\n",
       "        text-align: right;\n",
       "    }\n",
       "</style>\n",
       "<table border=\"1\" class=\"dataframe\">\n",
       "  <thead>\n",
       "    <tr style=\"text-align: right;\">\n",
       "      <th></th>\n",
       "      <th>names</th>\n",
       "      <th>lat</th>\n",
       "      <th>lon</th>\n",
       "    </tr>\n",
       "  </thead>\n",
       "  <tbody>\n",
       "    <tr>\n",
       "      <th>0</th>\n",
       "      <td>Clayton</td>\n",
       "      <td>-37.818595</td>\n",
       "      <td>144.969551</td>\n",
       "    </tr>\n",
       "    <tr>\n",
       "      <th>1</th>\n",
       "      <td>Eping</td>\n",
       "      <td>-37.812673</td>\n",
       "      <td>144.947069</td>\n",
       "    </tr>\n",
       "    <tr>\n",
       "      <th>2</th>\n",
       "      <td>Footscray</td>\n",
       "      <td>-37.809996</td>\n",
       "      <td>144.995232</td>\n",
       "    </tr>\n",
       "    <tr>\n",
       "      <th>3</th>\n",
       "      <td>St. Kilda</td>\n",
       "      <td>-37.816495</td>\n",
       "      <td>144.981200</td>\n",
       "    </tr>\n",
       "    <tr>\n",
       "      <th>4</th>\n",
       "      <td>Sunshine</td>\n",
       "      <td>-37.813500</td>\n",
       "      <td>144.912500</td>\n",
       "    </tr>\n",
       "  </tbody>\n",
       "</table>\n",
       "</div>"
      ],
      "text/plain": [
       "       names        lat         lon\n",
       "0    Clayton -37.818595  144.969551\n",
       "1      Eping -37.812673  144.947069\n",
       "2  Footscray -37.809996  144.995232\n",
       "3  St. Kilda -37.816495  144.981200\n",
       "4   Sunshine -37.813500  144.912500"
      ]
     },
     "execution_count": 19,
     "metadata": {},
     "output_type": "execute_result"
    }
   ],
   "source": [
    "store_house = pd.read_csv(\"../RD/Storehouses.csv\")\n",
    "store_house"
   ]
  },
  {
   "cell_type": "code",
   "execution_count": 20,
   "metadata": {},
   "outputs": [
    {
     "data": {
      "text/html": [
       "<div>\n",
       "<style scoped>\n",
       "    .dataframe tbody tr th:only-of-type {\n",
       "        vertical-align: middle;\n",
       "    }\n",
       "\n",
       "    .dataframe tbody tr th {\n",
       "        vertical-align: top;\n",
       "    }\n",
       "\n",
       "    .dataframe thead th {\n",
       "        text-align: right;\n",
       "    }\n",
       "</style>\n",
       "<table border=\"1\" class=\"dataframe\">\n",
       "  <thead>\n",
       "    <tr style=\"text-align: right;\">\n",
       "      <th></th>\n",
       "      <th>nearest_storehouse_id</th>\n",
       "      <th>nearest_storehouse</th>\n",
       "      <th>count</th>\n",
       "    </tr>\n",
       "  </thead>\n",
       "  <tbody>\n",
       "    <tr>\n",
       "      <th>0</th>\n",
       "      <td>0</td>\n",
       "      <td>Clayton</td>\n",
       "      <td>8</td>\n",
       "    </tr>\n",
       "    <tr>\n",
       "      <th>1</th>\n",
       "      <td>2</td>\n",
       "      <td>Footscray</td>\n",
       "      <td>113</td>\n",
       "    </tr>\n",
       "    <tr>\n",
       "      <th>2</th>\n",
       "      <td>3</td>\n",
       "      <td>St. Kilda</td>\n",
       "      <td>10</td>\n",
       "    </tr>\n",
       "    <tr>\n",
       "      <th>3</th>\n",
       "      <td>4</td>\n",
       "      <td>Sunshine</td>\n",
       "      <td>292</td>\n",
       "    </tr>\n",
       "    <tr>\n",
       "      <th>4</th>\n",
       "      <td>6</td>\n",
       "      <td>Clayton</td>\n",
       "      <td>1</td>\n",
       "    </tr>\n",
       "    <tr>\n",
       "      <th>5</th>\n",
       "      <td>6</td>\n",
       "      <td>Footscray</td>\n",
       "      <td>25</td>\n",
       "    </tr>\n",
       "    <tr>\n",
       "      <th>6</th>\n",
       "      <td>6</td>\n",
       "      <td>St. Kilda</td>\n",
       "      <td>2</td>\n",
       "    </tr>\n",
       "    <tr>\n",
       "      <th>7</th>\n",
       "      <td>6</td>\n",
       "      <td>Sunshine</td>\n",
       "      <td>49</td>\n",
       "    </tr>\n",
       "  </tbody>\n",
       "</table>\n",
       "</div>"
      ],
      "text/plain": [
       "   nearest_storehouse_id nearest_storehouse  count\n",
       "0                      0            Clayton      8\n",
       "1                      2          Footscray    113\n",
       "2                      3          St. Kilda     10\n",
       "3                      4           Sunshine    292\n",
       "4                      6            Clayton      1\n",
       "5                      6          Footscray     25\n",
       "6                      6          St. Kilda      2\n",
       "7                      6           Sunshine     49"
      ]
     },
     "execution_count": 20,
     "metadata": {},
     "output_type": "execute_result"
    }
   ],
   "source": [
    "dirty_data.groupby(['nearest_storehouse_id', 'nearest_storehouse']).size().reset_index().rename(columns={0:'count'})"
   ]
  },
  {
   "cell_type": "markdown",
   "metadata": {},
   "source": [
    "- From the unique combinations of nearest_storehouse_id and nearest_storehouse, looks like the store 6 is a mistake and the correct ids for stores clayton, footscray, St.kilda and Sunshine are 0,2,3,4 respectively.\n",
    "- we will change the nearest_storehouse_id from 6 to 0,2,3,4 based on the nearest_storehouse."
   ]
  },
  {
   "cell_type": "code",
   "execution_count": 21,
   "metadata": {},
   "outputs": [],
   "source": [
    "for i in range(len(dirty_data)):\n",
    "    if(dirty_data['nearest_storehouse_id'][i]==6):\n",
    "        if(dirty_data['nearest_storehouse'][i] == 'Clayton'):          #Checkinf for L\n",
    "            dirty_data.at[i, 'nearest_storehouse_id'] = 0  \n",
    "            dirty_data.at[i, 'corrected'] = 1             \n",
    "        elif(dirty_data['nearest_storehouse'][i] == 'Footscray'):        #Checkinf for M \n",
    "            dirty_data.at[i, 'nearest_storehouse_id'] = 2    \n",
    "            dirty_data.at[i, 'corrected'] = 1\n",
    "        elif(dirty_data['nearest_storehouse'][i] == 'St. Kilda'):        #Checkinf for S\n",
    "            dirty_data.at[i, 'nearest_storehouse_id'] = 3\n",
    "            dirty_data.at[i, 'corrected'] = 1\n",
    "        elif(dirty_data['nearest_storehouse'][i] == 'Sunshine'):        #Checkinf for S\n",
    "            dirty_data.at[i, 'nearest_storehouse_id'] = 4\n",
    "            dirty_data.at[i, 'corrected'] = 1\n",
    "        else:\n",
    "            print(i)\n",
    "    else:\n",
    "        continue\n",
    "        "
   ]
  },
  {
   "cell_type": "markdown",
   "metadata": {},
   "source": [
    "- Let us check if we were able to change the store number across all the stores with id 6."
   ]
  },
  {
   "cell_type": "code",
   "execution_count": 22,
   "metadata": {},
   "outputs": [
    {
     "data": {
      "text/html": [
       "<div>\n",
       "<style scoped>\n",
       "    .dataframe tbody tr th:only-of-type {\n",
       "        vertical-align: middle;\n",
       "    }\n",
       "\n",
       "    .dataframe tbody tr th {\n",
       "        vertical-align: top;\n",
       "    }\n",
       "\n",
       "    .dataframe thead th {\n",
       "        text-align: right;\n",
       "    }\n",
       "</style>\n",
       "<table border=\"1\" class=\"dataframe\">\n",
       "  <thead>\n",
       "    <tr style=\"text-align: right;\">\n",
       "      <th></th>\n",
       "      <th>nearest_storehouse_id</th>\n",
       "      <th>nearest_storehouse</th>\n",
       "      <th>count</th>\n",
       "    </tr>\n",
       "  </thead>\n",
       "  <tbody>\n",
       "    <tr>\n",
       "      <th>0</th>\n",
       "      <td>0</td>\n",
       "      <td>Clayton</td>\n",
       "      <td>9</td>\n",
       "    </tr>\n",
       "    <tr>\n",
       "      <th>1</th>\n",
       "      <td>2</td>\n",
       "      <td>Footscray</td>\n",
       "      <td>138</td>\n",
       "    </tr>\n",
       "    <tr>\n",
       "      <th>2</th>\n",
       "      <td>3</td>\n",
       "      <td>St. Kilda</td>\n",
       "      <td>12</td>\n",
       "    </tr>\n",
       "    <tr>\n",
       "      <th>3</th>\n",
       "      <td>4</td>\n",
       "      <td>Sunshine</td>\n",
       "      <td>341</td>\n",
       "    </tr>\n",
       "  </tbody>\n",
       "</table>\n",
       "</div>"
      ],
      "text/plain": [
       "   nearest_storehouse_id nearest_storehouse  count\n",
       "0                      0            Clayton      9\n",
       "1                      2          Footscray    138\n",
       "2                      3          St. Kilda     12\n",
       "3                      4           Sunshine    341"
      ]
     },
     "execution_count": 22,
     "metadata": {},
     "output_type": "execute_result"
    }
   ],
   "source": [
    "dirty_data.groupby(['nearest_storehouse_id', 'nearest_storehouse']).size().reset_index().rename(columns={0:'count'})"
   ]
  },
  {
   "cell_type": "markdown",
   "metadata": {},
   "source": [
    "- We can see that stores are allocated their actual store ids. \n",
    "\n",
    "#### iii) Time\n",
    "- Since it does not have AM or PM it should have certain restrictions, like hours should be less than 24, minutes less than 60 and so do seconds. \n",
    "- Let us check for the same, in the data and see if there are any errors."
   ]
  },
  {
   "cell_type": "code",
   "execution_count": 23,
   "metadata": {},
   "outputs": [
    {
     "name": "stdout",
     "output_type": "stream",
     "text": [
      "Empty DataFrame\n",
      "Columns: [sales_id, date, time, shopping_cart, price, parcel_size, Customer_lat, Customer_long, isLoyaltyProgram, nearest_storehouse_id, nearest_storehouse, dist_to_nearest_storehouse, delivery_cost, corrected]\n",
      "Index: []\n",
      "Empty DataFrame\n",
      "Columns: [sales_id, date, time, shopping_cart, price, parcel_size, Customer_lat, Customer_long, isLoyaltyProgram, nearest_storehouse_id, nearest_storehouse, dist_to_nearest_storehouse, delivery_cost, corrected]\n",
      "Index: []\n",
      "       sales_id        date      time  \\\n",
      "1    ORD0059355  10/06/2021  39:03:49   \n",
      "2    ORD0047399  17/01/2018  54:00:19   \n",
      "21   ORD0018904  26/03/2018  24:02:25   \n",
      "34   ORD0087596  11/03/2020  48:01:07   \n",
      "46   ORD0063211  09/05/2018  30:12:31   \n",
      "81   ORD0076220  04/06/2021  35:09:57   \n",
      "84   ORD0011066  10/05/2019  41:06:41   \n",
      "89   ORD0027342  19/10/2020  34:04:14   \n",
      "113  ORD0007814  09/04/2020  45:19:32   \n",
      "115  ORD0002757  24/12/2020  54:07:38   \n",
      "119  ORD0080376  21/09/2018  54:09:36   \n",
      "124  ORD0092406  14/03/2020  36:08:55   \n",
      "128  ORD0093583  05/01/2019  27:17:12   \n",
      "130  ORD0052374  02/10/2021  42:19:57   \n",
      "131  ORD0050980  19/11/2019  39:21:13   \n",
      "138  ORD0086763  13/11/2020  26:13:50   \n",
      "151  ORD0094556  12/06/2021  39:13:39   \n",
      "157  ORD0085405  28/08/2019  30:13:51   \n",
      "159  ORD0075165  03/10/2020  32:15:20   \n",
      "181  ORD0065200  12/05/2019  37:21:44   \n",
      "183  ORD0033772  02/02/2019  37:04:25   \n",
      "187  ORD0072253  04/04/2019  35:03:35   \n",
      "189  ORD0022655  01/06/2021  52:22:13   \n",
      "192  ORD0041835  07/03/2019  29:02:28   \n",
      "206  ORD0013714  20/12/2020  33:00:19   \n",
      "219  ORD0087954  22/05/2018  52:10:38   \n",
      "234  ORD0056437  02/07/2019  49:23:39   \n",
      "236  ORD0085620  05/02/2019  41:08:13   \n",
      "240  ORD0081133  23/03/2021  55:14:18   \n",
      "255  ORD0064361  26/10/2021  25:01:48   \n",
      "257  ORD0007233  29/03/2019  59:05:21   \n",
      "259  ORD0061351  13/11/2020  43:00:40   \n",
      "303  ORD0082128  07/05/2020  51:09:51   \n",
      "317  ORD0055447  26/11/2019  29:00:31   \n",
      "325  ORD0024781  06/04/2018  52:10:12   \n",
      "327  ORD0016613  22/10/2021  57:19:43   \n",
      "358  ORD0022289  25/01/2021  45:19:28   \n",
      "360  ORD0091867  09/03/2018  57:12:00   \n",
      "388  ORD0074799  18/04/2019  24:23:19   \n",
      "415  ORD0071391  12/06/2021  44:18:34   \n",
      "416  ORD0035684  29/07/2019  24:01:57   \n",
      "418  ORD0026781  25/11/2019  59:19:29   \n",
      "429  ORD0060396  28/10/2020  26:10:30   \n",
      "447  ORD0035921  08/10/2019  37:01:07   \n",
      "458  ORD0076750  18/12/2018  43:19:44   \n",
      "464  ORD0044739  02/10/2018  41:18:41   \n",
      "467  ORD0019604  23/09/2021  47:14:59   \n",
      "474  ORD0043491  25/06/2019  35:00:21   \n",
      "493  ORD0088127  22/12/2018  46:10:22   \n",
      "\n",
      "                                         shopping_cart    price parcel_size  \\\n",
      "1    [('sofa', 3), ('Study_table', 1), ('wardrobe',...  5905.28       large   \n",
      "2          [('bed', 3), ('Chair', 2), ('mattress', 4)]  3208.60       small   \n",
      "21   [('side_table', 4), ('wardrobe', 1), ('Chair',...  1984.25       small   \n",
      "34   [('sofa', 4), ('wardrobe', 2), ('Study_table',...  4147.39       large   \n",
      "46   [('wardrobe', 3), ('Chair', 3), ('sofa', 3), (...  2719.92      medium   \n",
      "81   [('side_table', 4), ('Study_table', 4), ('ward...  5303.38       large   \n",
      "84     [('Dining_table', 2), ('bed', 4), ('Chair', 1)]  1836.00       small   \n",
      "89   [('wardrobe', 2), ('mattress', 2), ('side_tabl...  4039.26      medium   \n",
      "113  [('bed', 4), ('Study_table', 2), ('wardrobe', ...  4938.07       large   \n",
      "115  [('Dining_table', 3), ('side_table', 2), ('Stu...  3338.66       large   \n",
      "119  [('Dining_table', 2), ('wardrobe', 2), ('bed',...  2000.71       small   \n",
      "124  [('Chair', 4), ('sofa', 2), ('Study_table', 3)...  2779.33      medium   \n",
      "128  [('Study_table', 1), ('bed', 2), ('mattress', 4)]  2720.27       small   \n",
      "130  [('bed', 4), ('sofa', 1), ('side_table', 1), (...  4884.56       large   \n",
      "131  [('mattress', 4), ('side_table', 1), ('sofa', ...  4459.40       large   \n",
      "138    [('mattress', 3), ('sofa', 1), ('wardrobe', 4)]  2880.50       small   \n",
      "151  [('sofa', 4), ('Dining_table', 1), ('side_tabl...  5376.14       large   \n",
      "157  [('Chair', 2), ('mattress', 1), ('sofa', 3), (...  3805.69       large   \n",
      "159  [('Chair', 3), ('bed', 1), ('side_table', 2), ...  4191.40       large   \n",
      "181    [('mattress', 4), ('wardrobe', 4), ('sofa', 3)]  4030.59       small   \n",
      "183  [('Dining_table', 4), ('wardrobe', 2), ('sofa'...  4277.81      medium   \n",
      "187  [('mattress', 3), ('Chair', 4), ('Dining_table...  4865.90       large   \n",
      "189  [('mattress', 3), ('Chair', 2), ('sofa', 3), (...  3590.01      medium   \n",
      "192  [('Chair', 3), ('side_table', 4), ('wardrobe',...  2668.48      medium   \n",
      "206  [('Chair', 4), ('wardrobe', 3), ('Study_table'...  3435.62      medium   \n",
      "219  [('mattress', 1), ('Study_table', 1), ('sofa',...  1561.57       small   \n",
      "234  [('Dining_table', 2), ('sofa', 1), ('side_tabl...  5367.22       large   \n",
      "236  [('Chair', 3), ('wardrobe', 1), ('bed', 4), ('...  4017.40       large   \n",
      "240  [('mattress', 4), ('sofa', 3), ('wardrobe', 2)...  3616.60       small   \n",
      "255  [('mattress', 1), ('side_table', 1), ('sofa', ...  2974.89       large   \n",
      "257  [('Study_table', 4), ('mattress', 3), ('Dining...  3175.73       small   \n",
      "259  [('bed', 2), ('wardrobe', 4), ('Dining_table',...  5532.56       large   \n",
      "303  [('mattress', 2), ('sofa', 1), ('Dining_table'...  4730.00       large   \n",
      "317  [('mattress', 2), ('wardrobe', 2), ('Study_tab...  2557.86       small   \n",
      "325  [('bed', 1), ('Chair', 3), ('Dining_table', 3)...  4332.04       large   \n",
      "327   [('Chair', 2), ('Dining_table', 3), ('sofa', 2)]  1186.06       small   \n",
      "358  [('Chair', 1), ('Dining_table', 1), ('Study_ta...  3470.68       large   \n",
      "360   [('wardrobe', 1), ('side_table', 1), ('bed', 2)]  1095.71       small   \n",
      "388  [('sofa', 2), ('wardrobe', 4), ('bed', 1), ('S...  2349.77      medium   \n",
      "415  [('mattress', 1), ('bed', 3), ('sofa', 1), ('C...  2323.86      medium   \n",
      "416  [('sofa', 3), ('Study_table', 1), ('Chair', 4)...  2592.92      medium   \n",
      "418  [('bed', 2), ('Study_table', 2), ('sofa', 3), ...  2104.69       small   \n",
      "429  [('bed', 3), ('Study_table', 3), ('sofa', 4), ...  4100.15      medium   \n",
      "447  [('bed', 1), ('wardrobe', 2), ('mattress', 2),...  2660.55      medium   \n",
      "458  [('Chair', 1), ('Study_table', 1), ('side_tabl...  1838.72       small   \n",
      "464  [('Study_table', 3), ('sofa', 4), ('side_table...  3608.22       small   \n",
      "467  [('Chair', 4), ('side_table', 2), ('wardrobe',...  4509.35       large   \n",
      "474  [('Chair', 3), ('Study_table', 1), ('mattress'...  2373.88       small   \n",
      "493  [('Chair', 1), ('Dining_table', 2), ('wardrobe...  3493.46       large   \n",
      "\n",
      "     Customer_lat  Customer_long  isLoyaltyProgram  nearest_storehouse_id  \\\n",
      "1       -37.44465      146.06201                 0                      4   \n",
      "2       -37.70571      144.67023                 1                      2   \n",
      "21      -37.77599      144.45504                 1                      2   \n",
      "34      -37.59926      146.04832                 1                      4   \n",
      "46      -37.61928      146.18802                 1                      4   \n",
      "81      -37.44828      144.87244                 1                      0   \n",
      "84      -38.24923      146.15454                 0                      4   \n",
      "89      -38.37149      145.88668                 0                      4   \n",
      "113     -38.14227      146.11192                 0                      4   \n",
      "115     -38.40570      144.75132                 0                      2   \n",
      "119     -37.99449      145.77603                 1                      4   \n",
      "124     -37.76648      145.38441                 1                      4   \n",
      "128     -37.40743      145.30909                 1                      4   \n",
      "130     -37.65840      144.66359                 1                      2   \n",
      "131     -37.82497      145.96015                 1                      4   \n",
      "138     -37.66666      145.65336                 0                      4   \n",
      "151     -38.13993      146.11458                 1                      4   \n",
      "157     -37.55656      144.63236                 0                      2   \n",
      "159     -37.64019      145.78052                 1                      4   \n",
      "181     -38.04810      145.27039                 1                      4   \n",
      "183     -37.91862      146.19006                 0                      4   \n",
      "187     -37.61260      144.60246                 1                      2   \n",
      "189     -38.43471      144.98896                 0                      2   \n",
      "192     -38.35911      144.78926                 1                      2   \n",
      "206     -37.63391      146.15728                 0                      4   \n",
      "219     -37.68753      145.29497                 0                      4   \n",
      "234     -38.13630      145.42731                 1                      4   \n",
      "236     -38.20525      145.53304                 0                      4   \n",
      "240     -37.89363      144.82408                 0                      2   \n",
      "255     -37.97264      146.12065                 0                      4   \n",
      "257     -38.13627      146.03687                 1                      4   \n",
      "259     -37.86961      145.42386                 1                      4   \n",
      "303     -37.93691      145.08198                 0                      4   \n",
      "317     -37.69298      145.85832                 1                      4   \n",
      "325     -38.20088      144.54411                 0                      2   \n",
      "327     -38.40298      146.12460                 0                      4   \n",
      "358     -38.31460      145.56089                 0                      4   \n",
      "360     -37.87218      145.57403                 1                      4   \n",
      "388     -38.21734      145.07971                 0                      4   \n",
      "415     -37.99331      145.73130                 0                      4   \n",
      "416     -37.58660      146.16632                 1                      4   \n",
      "418     -37.47854      145.67387                 0                      4   \n",
      "429     -37.43003      144.69171                 1                      2   \n",
      "447     -38.38254      145.47781                 0                      4   \n",
      "458     -37.92631      144.55491                 1                      2   \n",
      "464     -38.31896      144.59771                 1                      2   \n",
      "467     -37.42140      146.06593                 1                      4   \n",
      "474     -38.06985      145.00093                 0                      4   \n",
      "493     -38.41369      145.19751                 0                      4   \n",
      "\n",
      "    nearest_storehouse  dist_to_nearest_storehouse  delivery_cost  corrected  \n",
      "1             Sunshine                      109.22         6.3135          0  \n",
      "2            Footscray                       30.83        16.5465          0  \n",
      "21           Footscray                       47.62        18.0315          0  \n",
      "34            Sunshine                      102.72         7.3395          0  \n",
      "46            Sunshine                      114.25         6.3045          0  \n",
      "81             Clayton                       42.06        15.8490          0  \n",
      "84            Sunshine                      119.08         6.5115          0  \n",
      "89            Sunshine                      105.44         6.3135          0  \n",
      "113           Sunshine                      111.30         7.0425          0  \n",
      "115          Footscray                       69.59        17.7525          0  \n",
      "119           Sunshine                       78.39         6.3495          0  \n",
      "124           Sunshine                       41.80         6.2955          0  \n",
      "128           Sunshine                       57.09         6.2055          0  \n",
      "130          Footscray                       33.69        18.8235          0  \n",
      "131           Sunshine                       92.03         7.4475          0  \n",
      "138           Sunshine                       67.16         6.1335          0  \n",
      "151           Sunshine                      111.44         7.1865          0  \n",
      "157          Footscray                       42.59        17.8785          0  \n",
      "159           Sunshine                       78.74         6.4395          0  \n",
      "181           Sunshine                       40.81         6.3495          0  \n",
      "183           Sunshine                      112.75         6.1875          0  \n",
      "187          Footscray                       40.93        18.1665          0  \n",
      "189          Footscray                       69.47        18.4005          0  \n",
      "192          Footscray                       63.66        18.4095          0  \n",
      "206           Sunshine                      111.29         5.8815          0  \n",
      "219           Sunshine                       36.43         7.0155          0  \n",
      "234           Sunshine                       57.66         7.1055          0  \n",
      "236           Sunshine                       69.66         6.2235          0  \n",
      "240          Footscray                       17.67        18.4365          0  \n",
      "255           Sunshine                      107.48         6.6915          0  \n",
      "257           Sunshine                      104.88         6.2595          0  \n",
      "259           Sunshine                       45.33         7.2315          0  \n",
      "303           Sunshine                       20.24         6.7995          0  \n",
      "317           Sunshine                       84.23         6.6555          0  \n",
      "325          Footscray                       58.75        18.3465          0  \n",
      "327           Sunshine                      124.67         6.8445          0  \n",
      "358           Sunshine                       79.54         5.9265          0  \n",
      "360           Sunshine                       58.45         7.2855          0  \n",
      "388           Sunshine                       47.23         6.1425          0  \n",
      "415           Sunshine                       74.57         5.5845          0  \n",
      "416           Sunshine                      113.16         6.0165          0  \n",
      "418           Sunshine                       76.69         6.3045          0  \n",
      "429          Footscray                       50.00        17.8515          0  \n",
      "447           Sunshine                       80.32         7.2855          0  \n",
      "458          Footscray                       40.76        16.7715          0  \n",
      "464          Footscray                       66.44        18.0855          0  \n",
      "467           Sunshine                      110.55         6.6375          0  \n",
      "474           Sunshine                       29.54         5.6565          0  \n",
      "493           Sunshine                       71.24         5.5305          0  \n"
     ]
    }
   ],
   "source": [
    "# Printing values of times that might have issues\n",
    "print(dirty_data[pd.to_numeric(dirty_data.time.str[6:8])>59])\n",
    "print(dirty_data[pd.to_numeric(dirty_data.time.str[3:5])>59])\n",
    "print(dirty_data[pd.to_numeric(dirty_data.time.str[:2])>23 ])"
   ]
  },
  {
   "cell_type": "markdown",
   "metadata": {},
   "source": [
    "- We can notice that the first two prints resulted in an empty data frame, meaning that all the minutes are less than 60 and all the hours are less than 60.\n",
    "- However thee are values where the hours part of time is greater than 23, which is not permissible.\n",
    "- It might be that the hours part is mixed up with seconds or minutes. Let us check if the minutes/seconds part of these files follow the rules for hours."
   ]
  },
  {
   "cell_type": "code",
   "execution_count": 24,
   "metadata": {},
   "outputs": [
    {
     "data": {
      "text/plain": [
       "1      False\n",
       "2      False\n",
       "21     False\n",
       "34     False\n",
       "46     False\n",
       "81     False\n",
       "84     False\n",
       "89     False\n",
       "113    False\n",
       "115    False\n",
       "119    False\n",
       "124    False\n",
       "128    False\n",
       "130    False\n",
       "131    False\n",
       "138    False\n",
       "151    False\n",
       "157    False\n",
       "159    False\n",
       "181    False\n",
       "183    False\n",
       "187    False\n",
       "189    False\n",
       "192    False\n",
       "206    False\n",
       "219    False\n",
       "234    False\n",
       "236    False\n",
       "240    False\n",
       "255    False\n",
       "257    False\n",
       "259    False\n",
       "303    False\n",
       "317    False\n",
       "325    False\n",
       "327    False\n",
       "358    False\n",
       "360    False\n",
       "388    False\n",
       "415    False\n",
       "416    False\n",
       "418    False\n",
       "429    False\n",
       "447    False\n",
       "458    False\n",
       "464    False\n",
       "467    False\n",
       "474    False\n",
       "493    False\n",
       "Name: time, dtype: bool"
      ]
     },
     "execution_count": 24,
     "metadata": {},
     "output_type": "execute_result"
    }
   ],
   "source": [
    "#checking for minutes part of time column where the hours is greater than 23\n",
    "pd.to_numeric(dirty_data[pd.to_numeric(dirty_data.time.str[:2])>23 ]['time'].str[3:5] )>23"
   ]
  },
  {
   "cell_type": "code",
   "execution_count": 25,
   "metadata": {},
   "outputs": [
    {
     "data": {
      "text/plain": [
       "1       True\n",
       "2      False\n",
       "21      True\n",
       "34     False\n",
       "46      True\n",
       "81      True\n",
       "84      True\n",
       "89     False\n",
       "113     True\n",
       "115     True\n",
       "119     True\n",
       "124     True\n",
       "128    False\n",
       "130     True\n",
       "131    False\n",
       "138     True\n",
       "151     True\n",
       "157     True\n",
       "159    False\n",
       "181     True\n",
       "183     True\n",
       "187     True\n",
       "189    False\n",
       "192     True\n",
       "206    False\n",
       "219     True\n",
       "234     True\n",
       "236    False\n",
       "240    False\n",
       "255     True\n",
       "257    False\n",
       "259     True\n",
       "303     True\n",
       "317     True\n",
       "325    False\n",
       "327     True\n",
       "358     True\n",
       "360    False\n",
       "388    False\n",
       "415     True\n",
       "416     True\n",
       "418     True\n",
       "429     True\n",
       "447    False\n",
       "458     True\n",
       "464     True\n",
       "467     True\n",
       "474    False\n",
       "493    False\n",
       "Name: time, dtype: bool"
      ]
     },
     "execution_count": 25,
     "metadata": {},
     "output_type": "execute_result"
    }
   ],
   "source": [
    "#checking for minutes part of time column where the hours is greater than 23\n",
    "pd.to_numeric(dirty_data[pd.to_numeric(dirty_data.time.str[:2])>23 ]['time'].str[6:8] )>23"
   ]
  },
  {
   "cell_type": "markdown",
   "metadata": {},
   "source": [
    "- From the above two results it is clear that if there is any wrong substitution it will be between minutes and hours. \n",
    "- I will proceed and change the values for the same in the data.\n",
    "- I will initiate a loop through all the rows and check if the hours part of time column is greater than 23 and then change the order accordingly."
   ]
  },
  {
   "cell_type": "code",
   "execution_count": 26,
   "metadata": {},
   "outputs": [],
   "source": [
    "# Initiating for loop across all rows\n",
    "for i in range(len(dirty_data)):\n",
    "    if(int(dirty_data['time'][i][:2])>23):    #checking if the hours part is greater than 23\n",
    "        #changing the order and exchanging hours and minutes.\n",
    "        dirty_data.at[i, 'time'] = dirty_data['time'][i][3:6]+dirty_data['time'][i][:3]+dirty_data['time'][i][6:8]\n",
    "        dirty_data.at[i, 'corrected'] = 1 \n",
    "    else:\n",
    "        continue              \n",
    "    "
   ]
  },
  {
   "cell_type": "markdown",
   "metadata": {},
   "source": [
    "#### iv) Date\n",
    "Checking date column for any anomalies.\n",
    "- For date we have to first check whether if it is following the 'DD/MM/YY' pattern. to check this let us use the regex pattern **('^(((0[1-9]|[12][0-9]|30)[/]?(0[13-9]|1[012])|31[/]?(0[13578]|1[02])|(0[1-9]|1[0-9]|2[0-8])[/]?02)[/]?[0-9]{4}|29[/]?02[/]?([0-9]{2}(([2468][048]|[02468][48])|[13579][26])|([13579][26]|[02468][048]|0[0-9]|1[0-6])00))$')** (Regex to Validate Date Format Dd/Mm/Yyyy, 2013)\n",
    "- This regex checks for days in month as well as for leap years.\n",
    "- Let us check for dates that does not confirm to this format and see how they are different."
   ]
  },
  {
   "cell_type": "code",
   "execution_count": 27,
   "metadata": {},
   "outputs": [
    {
     "name": "stdout",
     "output_type": "stream",
     "text": [
      "2018-07-12\n",
      "2020-06-16\n",
      "Sunday 24, 11 2019\n",
      "Friday 04, 10 2019\n",
      "2019-06-12\n",
      "Friday 14, 12 2018\n",
      "Friday 30, 10 2020\n",
      "Friday 04, 12 2020\n",
      "2020-04-17\n",
      "2020-02-03\n",
      "Monday 14, 05 2018\n",
      "Sunday 10, 06 2018\n",
      "2019-02-26\n",
      "Thursday 19, 11 2020\n",
      "Saturday 27, 02 2021\n",
      "Saturday 18, 07 2020\n",
      "Wednesday 19, 06 2019\n",
      "2021-03-07\n",
      "2019-11-02\n",
      "Sunday 11, 10 2020\n",
      "Monday 20, 08 2018\n",
      "2021-10-24\n",
      "Thursday 01, 10 2020\n",
      "2020-07-30\n",
      "Thursday 13, 12 2018\n",
      "2018-11-23\n",
      "Saturday 10, 02 2018\n",
      "Saturday 25, 08 2018\n",
      "Friday 06, 09 2019\n",
      "2020-06-09\n",
      "2018-05-02\n",
      "2020-04-18\n",
      "2019-08-07\n",
      "2020-03-28\n",
      "Thursday 11, 04 2019\n",
      "Wednesday 01, 12 2021\n",
      "2021-12-19\n",
      "2018-04-07\n",
      "2020-02-06\n",
      "Sunday 09, 06 2019\n",
      "2018-01-19\n",
      "Monday 15, 03 2021\n",
      "Sunday 01, 04 2018\n",
      "2020-04-14\n",
      "2020-08-20\n",
      "Wednesday 22, 08 2018\n",
      "Wednesday 30, 10 2019\n",
      "Saturday 11, 08 2018\n",
      "Monday 02, 03 2020\n",
      "Thursday 25, 07 2019\n",
      "Monday 18, 02 2019\n",
      "2020-11-24\n",
      "Sunday 13, 10 2019\n",
      "Saturday 09, 06 2018\n",
      "2018-04-01\n",
      "2020-10-26\n",
      "2021-12-20\n",
      "2018-03-04\n",
      "Sunday 21, 07 2019\n",
      "2021-02-17\n",
      "Tuesday 06, 07 2021\n",
      "2020-01-04\n",
      "Wednesday 24, 10 2018\n",
      "2021-01-29\n",
      "Sunday 26, 08 2018\n",
      "Tuesday 22, 09 2020\n",
      "2020-02-19\n",
      "Wednesday 09, 01 2019\n",
      "Sunday 04, 04 2021\n",
      "Friday 28, 08 2020\n"
     ]
    }
   ],
   "source": [
    "for i in range(len(dirty_data)):\n",
    "    if re.match('^(((0[1-9]|[12][0-9]|30)[/]?(0[13-9]|1[012])|31[/]?(0[13578]|1[02])|(0[1-9]|1[0-9]|2[0-8])[/]?02)[/]?[0-9]{4}|29[/]?02[/]?([0-9]{2}(([2468][048]|[02468][48])|[13579][26])|([13579][26]|[02468][048]|0[0-9]|1[0-6])00))$',dirty_data.at[i, 'date']):\n",
    "        continue\n",
    "    else : \n",
    "        print(dirty_data.at[i, 'date'])"
   ]
  },
  {
   "cell_type": "markdown",
   "metadata": {},
   "source": [
    "- Looking at the data above it is clear that there are two different formats that date is present in their data apart from the allowed 'DD/MM/YYYY'.\n",
    "- They are 'YYYY-MM-DD' and 'WEEKDAY DD, MM YYYY' and we have to convert them to 'DD/MM/YYYY' I will use the above regex and make minor changes and detect the above two and convert them into required format."
   ]
  },
  {
   "cell_type": "code",
   "execution_count": 28,
   "metadata": {},
   "outputs": [],
   "source": [
    "#for loop to go through each row\n",
    "for i in range(len(dirty_data)):\n",
    "    #if to check if the date matches 'DD/MM/YYYY' if yes then continue\n",
    "    if re.match('^(((0[1-9]|[12][0-9]|30)[/]?(0[13-9]|1[012])|31[/]?(0[13578]|1[02])|(0[1-9]|1[0-9]|2[0-8])[/]?02)[/]?[0-9]{4}|29[/]?02[/]?([0-9]{2}(([2468][048]|[02468][48])|[13579][26])|([13579][26]|[02468][048]|0[0-9]|1[0-6])00))$',dirty_data.at[i, 'date']):\n",
    "        continue\n",
    "    #checking if it matches 'yyyy-mm-dd'\n",
    "    elif re.match('^([0-9]{4}[-/]?((0[13-9]|1[012])[-/]?(0[1-9]|[12][0-9]|30)|(0[13578]|1[02])[-/]?31|02[-/]?(0[1-9]|1[0-9]|2[0-8]))|([0-9]{2}(([2468][048]|[02468][48])|[13579][26])|([13579][26]|[02468][048]|0[0-9]|1[0-6])00)[-/]?02[-/]?29)$',dirty_data.at[i, 'date']):\n",
    "        dirty_data.at[i, 'date'] = datetime.datetime.strptime(dirty_data.at[i, 'date'], \"%Y-%m-%d\").strftime(\"%d/%m/%Y\")\n",
    "        dirty_data.at[i, 'corrected'] = 1\n",
    "    #else we will convert it from the weekdayformat\n",
    "    else :\n",
    "        dirty_data.at[i, 'date'] = datetime.datetime.strptime(\"Friday 28, 08 2020\", \"%A %d, %m %Y\").strftime(\"%d/%m/%Y\")\n",
    "        dirty_data.at[i, 'corrected'] = 1\n"
   ]
  },
  {
   "cell_type": "markdown",
   "metadata": {},
   "source": [
    "- Now that we have processed the date let us check if all the dates in the column follow the convention of 'DD/MM/YYYY' and a valid date using the code we used initially to check the faulty dates."
   ]
  },
  {
   "cell_type": "code",
   "execution_count": 29,
   "metadata": {},
   "outputs": [],
   "source": [
    "for i in range(len(dirty_data)):\n",
    "    if re.match('^(((0[1-9]|[12][0-9]|30)[/]?(0[13-9]|1[012])|31[/]?(0[13578]|1[02])|(0[1-9]|1[0-9]|2[0-8])[/]?02)[/]?[0-9]{4}|29[/]?02[/]?([0-9]{2}(([2468][048]|[02468][48])|[13579][26])|([13579][26]|[02468][048]|0[0-9]|1[0-6])00))$',dirty_data.at[i, 'date']):\n",
    "        continue\n",
    "    else : \n",
    "        print(dirty_data.at[i, 'date'])"
   ]
  },
  {
   "cell_type": "markdown",
   "metadata": {},
   "source": [
    "- It is clear that now all the dates follow the required 'DD/MM/YYYY' format.\n",
    "\n",
    "#### v) Latitude and Longitudes\n",
    "- It is known that latitudes should be between -90 to 90 and longitude should be between -180 to 80. \n",
    "- let us check the range of both of these columns and see if there are any rows that exceeds the above values.\n"
   ]
  },
  {
   "cell_type": "code",
   "execution_count": 30,
   "metadata": {},
   "outputs": [
    {
     "name": "stdout",
     "output_type": "stream",
     "text": [
      "The maximum and minimum value for latitudes are146.18833999999998,37.40278respectively.\n",
      "The maximum and minimum value for longitudes are146.19006000000002,37.406079999999996respectively.\n"
     ]
    }
   ],
   "source": [
    "print(\"The maximum and minimum value for latitudes are\"\n",
    "      + str(max(abs(dirty_data['Customer_lat'])))+','+ str(min(abs(dirty_data['Customer_lat'])))+ \"respectively.\")\n",
    "\n",
    "print(\"The maximum and minimum value for longitudes are\"\n",
    "      + str(max(abs(dirty_data['Customer_long'])))+','+ str(min(abs(dirty_data['Customer_long'])))+ \"respectively.\")"
   ]
  },
  {
   "cell_type": "markdown",
   "metadata": {},
   "source": [
    "- It looks like some of the latitudes have values greater than 90 or less than -90, let us look at these columns and see what might be the issue."
   ]
  },
  {
   "cell_type": "code",
   "execution_count": 31,
   "metadata": {
    "scrolled": true
   },
   "outputs": [
    {
     "data": {
      "text/html": [
       "<div>\n",
       "<style scoped>\n",
       "    .dataframe tbody tr th:only-of-type {\n",
       "        vertical-align: middle;\n",
       "    }\n",
       "\n",
       "    .dataframe tbody tr th {\n",
       "        vertical-align: top;\n",
       "    }\n",
       "\n",
       "    .dataframe thead th {\n",
       "        text-align: right;\n",
       "    }\n",
       "</style>\n",
       "<table border=\"1\" class=\"dataframe\">\n",
       "  <thead>\n",
       "    <tr style=\"text-align: right;\">\n",
       "      <th></th>\n",
       "      <th>sales_id</th>\n",
       "      <th>date</th>\n",
       "      <th>time</th>\n",
       "      <th>shopping_cart</th>\n",
       "      <th>price</th>\n",
       "      <th>parcel_size</th>\n",
       "      <th>Customer_lat</th>\n",
       "      <th>Customer_long</th>\n",
       "      <th>isLoyaltyProgram</th>\n",
       "      <th>nearest_storehouse_id</th>\n",
       "      <th>nearest_storehouse</th>\n",
       "      <th>dist_to_nearest_storehouse</th>\n",
       "      <th>delivery_cost</th>\n",
       "      <th>corrected</th>\n",
       "    </tr>\n",
       "  </thead>\n",
       "  <tbody>\n",
       "    <tr>\n",
       "      <th>0</th>\n",
       "      <td>ORD0098289</td>\n",
       "      <td>23/08/2018</td>\n",
       "      <td>13:20:09</td>\n",
       "      <td>[('wardrobe', 3), ('Study_table', 1), ('mattre...</td>\n",
       "      <td>3947.95</td>\n",
       "      <td>small</td>\n",
       "      <td>145.13263</td>\n",
       "      <td>-37.97401</td>\n",
       "      <td>1</td>\n",
       "      <td>4</td>\n",
       "      <td>Sunshine</td>\n",
       "      <td>26.30</td>\n",
       "      <td>5.7555</td>\n",
       "      <td>0</td>\n",
       "    </tr>\n",
       "    <tr>\n",
       "      <th>6</th>\n",
       "      <td>ORD0034000</td>\n",
       "      <td>15/05/2018</td>\n",
       "      <td>18:09:36</td>\n",
       "      <td>[('Study_table', 2), ('Chair', 2), ('Dining_ta...</td>\n",
       "      <td>3360.00</td>\n",
       "      <td>medium</td>\n",
       "      <td>144.49758</td>\n",
       "      <td>-37.68539</td>\n",
       "      <td>1</td>\n",
       "      <td>2</td>\n",
       "      <td>Footscray</td>\n",
       "      <td>45.90</td>\n",
       "      <td>19.1565</td>\n",
       "      <td>0</td>\n",
       "    </tr>\n",
       "    <tr>\n",
       "      <th>12</th>\n",
       "      <td>ORD0099081</td>\n",
       "      <td>23/07/2018</td>\n",
       "      <td>08:52:07</td>\n",
       "      <td>[('bed', 3), ('side_table', 4), ('mattress', 3)]</td>\n",
       "      <td>2758.89</td>\n",
       "      <td>small</td>\n",
       "      <td>145.27832</td>\n",
       "      <td>-37.85167</td>\n",
       "      <td>1</td>\n",
       "      <td>4</td>\n",
       "      <td>Sunshine</td>\n",
       "      <td>32.41</td>\n",
       "      <td>6.2685</td>\n",
       "      <td>0</td>\n",
       "    </tr>\n",
       "    <tr>\n",
       "      <th>13</th>\n",
       "      <td>ORD0035535</td>\n",
       "      <td>26/04/2019</td>\n",
       "      <td>03:25:15</td>\n",
       "      <td>[('side_table', 3), ('Chair', 4), ('Dining_tab...</td>\n",
       "      <td>1117.25</td>\n",
       "      <td>small</td>\n",
       "      <td>144.95448</td>\n",
       "      <td>-38.35135</td>\n",
       "      <td>0</td>\n",
       "      <td>2</td>\n",
       "      <td>Footscray</td>\n",
       "      <td>60.30</td>\n",
       "      <td>18.6705</td>\n",
       "      <td>0</td>\n",
       "    </tr>\n",
       "    <tr>\n",
       "      <th>17</th>\n",
       "      <td>ORD0017260</td>\n",
       "      <td>31/01/2020</td>\n",
       "      <td>22:11:12</td>\n",
       "      <td>[('wardrobe', 2), ('sofa', 2), ('bed', 4), ('s...</td>\n",
       "      <td>4462.00</td>\n",
       "      <td>large</td>\n",
       "      <td>144.77928</td>\n",
       "      <td>-38.29612</td>\n",
       "      <td>1</td>\n",
       "      <td>2</td>\n",
       "      <td>Footscray</td>\n",
       "      <td>57.27</td>\n",
       "      <td>17.4285</td>\n",
       "      <td>0</td>\n",
       "    </tr>\n",
       "  </tbody>\n",
       "</table>\n",
       "</div>"
      ],
      "text/plain": [
       "      sales_id        date      time  \\\n",
       "0   ORD0098289  23/08/2018  13:20:09   \n",
       "6   ORD0034000  15/05/2018  18:09:36   \n",
       "12  ORD0099081  23/07/2018  08:52:07   \n",
       "13  ORD0035535  26/04/2019  03:25:15   \n",
       "17  ORD0017260  31/01/2020  22:11:12   \n",
       "\n",
       "                                        shopping_cart    price parcel_size  \\\n",
       "0   [('wardrobe', 3), ('Study_table', 1), ('mattre...  3947.95       small   \n",
       "6   [('Study_table', 2), ('Chair', 2), ('Dining_ta...  3360.00      medium   \n",
       "12   [('bed', 3), ('side_table', 4), ('mattress', 3)]  2758.89       small   \n",
       "13  [('side_table', 3), ('Chair', 4), ('Dining_tab...  1117.25       small   \n",
       "17  [('wardrobe', 2), ('sofa', 2), ('bed', 4), ('s...  4462.00       large   \n",
       "\n",
       "    Customer_lat  Customer_long  isLoyaltyProgram  nearest_storehouse_id  \\\n",
       "0      145.13263      -37.97401                 1                      4   \n",
       "6      144.49758      -37.68539                 1                      2   \n",
       "12     145.27832      -37.85167                 1                      4   \n",
       "13     144.95448      -38.35135                 0                      2   \n",
       "17     144.77928      -38.29612                 1                      2   \n",
       "\n",
       "   nearest_storehouse  dist_to_nearest_storehouse  delivery_cost  corrected  \n",
       "0            Sunshine                       26.30         5.7555          0  \n",
       "6           Footscray                       45.90        19.1565          0  \n",
       "12           Sunshine                       32.41         6.2685          0  \n",
       "13          Footscray                       60.30        18.6705          0  \n",
       "17          Footscray                       57.27        17.4285          0  "
      ]
     },
     "execution_count": 31,
     "metadata": {},
     "output_type": "execute_result"
    }
   ],
   "source": [
    "dirty_data[abs(dirty_data['Customer_lat'])>80].head(5)"
   ]
  },
  {
   "cell_type": "markdown",
   "metadata": {},
   "source": [
    "- It appears as though latitude and longitude got exchanged for some of the "
   ]
  },
  {
   "cell_type": "code",
   "execution_count": 32,
   "metadata": {},
   "outputs": [],
   "source": [
    "list_col = dirty_data.columns\n",
    "dirty_data['new_lat'] =dirty_data.apply(lambda x:  \n",
    "                                        x['Customer_lat'] if abs(x['Customer_lat'])<=80 else x['Customer_long'] ,axis=1)\n",
    "\n",
    "dirty_data['new_long'] =dirty_data.apply(lambda x:  \n",
    "                                         x['Customer_long'] if abs(x['Customer_lat'])<=80 else x['Customer_lat'] ,axis=1)\n",
    "\n",
    "dirty_data['corrected'] =dirty_data.apply(lambda x:  1  if ((x['corrected'] == 1) \n",
    "                                                            or (abs(x['Customer_lat'])>80 and x['corrected'] == 0)) \n",
    "                                          else 0 ,axis=1)\n",
    "\n",
    "dirty_data = dirty_data.drop(columns=['Customer_long', 'Customer_lat'])\n",
    "\n",
    "dirty_data = dirty_data.rename(columns={'new_long': 'Customer_long', 'new_lat': 'Customer_lat'})\n",
    "\n",
    "dirty_data = dirty_data[list_col]"
   ]
  },
  {
   "cell_type": "markdown",
   "metadata": {},
   "source": [
    "We have corrected longitude and latitdue for customers \n",
    "\n",
    "#### vi) Distance to the nearest store house.\n",
    "\n",
    "We have the correct latitudes and longitudes for customers, let us check if the column dist_to_nearest_storehouse has the corrext values. To do that we need to be able to calculate distance between two points based on latitude and longitude. Let us write a function that takes in customer latitude, longitude and storehouse name and gives out the distance between those too. "
   ]
  },
  {
   "cell_type": "code",
   "execution_count": 33,
   "metadata": {},
   "outputs": [],
   "source": [
    "def distance(lat,long,store_name):\n",
    "    #get the latitude and longitude of the store\n",
    "    lat_store = store_house[store_house.names == store_name]['lat'].iloc[0]\n",
    "    long_store = store_house[store_house.names == store_name]['lon'].iloc[0]\n",
    "    #defining radius\n",
    "    R = 6371\n",
    "    lat1 = math.radians(lat)\n",
    "    lon1 = math.radians(long)\n",
    "    lat2 = math.radians(lat_store)\n",
    "    lon2 = math.radians(long_store)\n",
    "    dlon = lon2 - lon1\n",
    "    dlat = lat2 - lat1\n",
    "    a = math.sin(dlat / 2)**2 + math.cos(lat1) * math.cos(lat2) * math.sin(dlon / 2)**2\n",
    "    c = 2 * math.atan2(math.sqrt(a), math.sqrt(1 - a))\n",
    "    distance = R * c\n",
    "    return(distance)"
   ]
  },
  {
   "cell_type": "markdown",
   "metadata": {},
   "source": [
    "- Let us check the distance at each row and see if it matches, otherwise we will count the rows where it does not match"
   ]
  },
  {
   "cell_type": "code",
   "execution_count": 34,
   "metadata": {},
   "outputs": [
    {
     "name": "stdout",
     "output_type": "stream",
     "text": [
      "Number of orders with matching distance is 437 and the number of stores with distances not matching are 63\n"
     ]
    }
   ],
   "source": [
    "j = 0\n",
    "k = 0\n",
    "corr = 0\n",
    "for i in range(len(dirty_data)):\n",
    "    if round(distance(dirty_data.at[i, 'Customer_lat'],dirty_data.at[i, 'Customer_long'],dirty_data.at[i, 'nearest_storehouse']),2) == dirty_data.at[i, 'dist_to_nearest_storehouse'] :\n",
    "        k = k+1\n",
    "        continue\n",
    "        \n",
    "        \n",
    "    else : \n",
    "        j = j+1\n",
    "\n",
    "\n",
    "\n",
    "print(\"Number of orders with matching distance is \"+str(k)\n",
    "      +\" and the number of stores with distances not matching are \"+str(j))"
   ]
  },
  {
   "cell_type": "markdown",
   "metadata": {},
   "source": [
    "- We have 63 with distances not matching, Let us change the distance to calculated distance for these rows and change the corrected column accordingly"
   ]
  },
  {
   "cell_type": "code",
   "execution_count": 35,
   "metadata": {},
   "outputs": [],
   "source": [
    "for i in range(len(dirty_data)):\n",
    "    if round(distance(dirty_data.at[i, 'Customer_lat']\n",
    "                      ,dirty_data.at[i, 'Customer_long']\n",
    "                      ,dirty_data.at[i, 'nearest_storehouse']),2) == dirty_data.at[i, 'dist_to_nearest_storehouse'] :\n",
    "        continue\n",
    "        \n",
    "    else : \n",
    "        dirty_data.at[i,'dist_to_nearest_storehouse'] = round(distance(dirty_data.at[i, 'Customer_lat']\n",
    "                                                                       ,dirty_data.at[i, 'Customer_long']\n",
    "                                                                       ,dirty_data.at[i, 'nearest_storehouse']),2)\n",
    "        dirty_data.at[i, 'corrected'] = 1"
   ]
  },
  {
   "cell_type": "markdown",
   "metadata": {},
   "source": [
    "- Let us extract seasons of all the orders, this will help us find out the relationship between season, store and distance from store to discount price. \n",
    "- Months '01', '02', '12' will be summer, months '03', '04', '05' will be autumn, months '06', '07', '08' will be Winter and '09', '10', '11' will be spring. "
   ]
  },
  {
   "cell_type": "markdown",
   "metadata": {},
   "source": [
    "#### vii) Shopping_cart"
   ]
  },
  {
   "cell_type": "markdown",
   "metadata": {},
   "source": [
    "Shopping cart is a list of tuples, each tuple contains the item name and the quantity purchased. We know that the price column is correct. So we have to check for item name and quantity. \n",
    "\n",
    "##### Relation between shopping cart and price.\n",
    "\n",
    "let us assume each Item has a cost which is constant across stores and years. So for any given row Price should follow the following logic:\n",
    "$$\n",
    "Price = \\sum^n_{i=1}Cost_{item} \\times Quantity_{item}\n",
    "$$\n",
    "\n",
    "We need to find out the cost of the each item to actually check whether the price column is matching shopping cart column.\n",
    "\n",
    "We will be using linalg of ```numpy``` library to obtain the prices. We will use the corrected rows to build the linear model and then check for the rows that are not corrected."
   ]
  },
  {
   "cell_type": "code",
   "execution_count": 36,
   "metadata": {},
   "outputs": [],
   "source": [
    "def sep_item_quantity(shopping_list):\n",
    "    '''\n",
    "    Creating a function that takes in a list of dictionaries and gives out item names and their quantity as a matrix.\n",
    "    '''\n",
    "    shopping_lst_dict =[dict(i) for i in shopping_list]\n",
    "    \n",
    "    dictvectorizer = DictVectorizer(sparse=False)\n",
    "    \n",
    "    features = dictvectorizer.fit_transform(shopping_lst_dict)\n",
    "    item_quantity = features\n",
    "    item_names = dictvectorizer.get_feature_names()\n",
    "    return([item_quantity,item_names])"
   ]
  },
  {
   "cell_type": "code",
   "execution_count": 37,
   "metadata": {},
   "outputs": [],
   "source": [
    "#getting a subset of data that has corrected rows\n",
    "dirty_data_c = dirty_data[dirty_data['corrected']==1]\n",
    "dirty_data_c.index = range(len(dirty_data_c))"
   ]
  },
  {
   "cell_type": "code",
   "execution_count": 38,
   "metadata": {},
   "outputs": [],
   "source": [
    "# extracting all columns in shopping cart and forming list of list\n",
    "shopping_lst = [ eval(dirty_data_c['shopping_cart'][j]) for j in range ( len ( dirty_data_c))]\n",
    "\n",
    "items_outlier = sep_item_quantity(shopping_lst)\n",
    "\n",
    "items_quantity = items_outlier[0]\n",
    "# a = items quantities (500x10)\n",
    "items = items_outlier[1]\n",
    "# item names"
   ]
  },
  {
   "cell_type": "code",
   "execution_count": 39,
   "metadata": {},
   "outputs": [],
   "source": [
    "items_name = np.array(items)\n",
    "\n",
    "order_price = np.array(dirty_data_c.price)\n"
   ]
  },
  {
   "cell_type": "code",
   "execution_count": 40,
   "metadata": {},
   "outputs": [],
   "source": [
    "#using np linalg to get the item price for each item\n",
    "item_price = np.linalg.lstsq(items_quantity,order_price,rcond=None)[0]"
   ]
  },
  {
   "cell_type": "code",
   "execution_count": 41,
   "metadata": {},
   "outputs": [
    {
     "name": "stdout",
     "output_type": "stream",
     "text": [
      "[ 89.2  109.56  71.99 381.92 471.11  49.95 339.49 281.92]\n"
     ]
    },
    {
     "data": {
      "text/plain": [
       "array(['Chair', 'Dining_table', 'Study_table', 'bed', 'mattress',\n",
       "       'side_table', 'sofa', 'wardrobe'], dtype='<U12')"
      ]
     },
     "execution_count": 41,
     "metadata": {},
     "output_type": "execute_result"
    }
   ],
   "source": [
    "print(item_price )\n",
    "items_name"
   ]
  },
  {
   "cell_type": "markdown",
   "metadata": {},
   "source": [
    "Now that we have individual prices for each qunatity we can calaculate new price for each row and check if it is matching existing price column."
   ]
  },
  {
   "cell_type": "code",
   "execution_count": 42,
   "metadata": {},
   "outputs": [],
   "source": [
    "dirty_data_d = dirty_data[dirty_data['corrected']== 0]\n",
    "dirty_data_d.index = range(len(dirty_data_d))"
   ]
  },
  {
   "cell_type": "code",
   "execution_count": 43,
   "metadata": {},
   "outputs": [],
   "source": [
    "# extracting all columns in shopping cart and forming list of list\n",
    "shopping_lst = [ eval(dirty_data_d['shopping_cart'][j]) for j in range ( len ( dirty_data_d))]\n",
    "\n",
    "items_outlier = sep_item_quantity(shopping_lst)\n",
    "\n",
    "items_quantity = items_outlier[0]\n",
    "# a = items quantities (500x10)\n",
    "items = items_outlier[1]\n",
    "# item names"
   ]
  },
  {
   "cell_type": "markdown",
   "metadata": {},
   "source": [
    "Let us the method we used earlier to get items and their quantity for every row where the data has not been corrected before. We can calculate the prices for each row and compare it with the prices in dirty_data_d to check if there are any differences."
   ]
  },
  {
   "cell_type": "code",
   "execution_count": 44,
   "metadata": {},
   "outputs": [],
   "source": [
    "list1 = list()\n",
    "for i in (items_quantity*item_price):\n",
    "    list1.append(round(sum(i),2))"
   ]
  },
  {
   "cell_type": "code",
   "execution_count": 45,
   "metadata": {},
   "outputs": [],
   "source": [
    "#A for loop to check if the actual values match with the calculated ones\n",
    "for i in range(len(dirty_data_d)):\n",
    "    if(dirty_data_d['price'][i]==list1[i]):\n",
    "        continue\n",
    "    else:\n",
    "        print(i)"
   ]
  },
  {
   "cell_type": "markdown",
   "metadata": {},
   "source": [
    "Looking that there is no result from the above we are sure that there are no issues in the shopping_cart column."
   ]
  },
  {
   "cell_type": "code",
   "execution_count": 46,
   "metadata": {},
   "outputs": [
    {
     "data": {
      "text/plain": [
       "465"
      ]
     },
     "execution_count": 46,
     "metadata": {},
     "output_type": "execute_result"
    }
   ],
   "source": [
    "sum(dirty_data['corrected'])"
   ]
  },
  {
   "cell_type": "markdown",
   "metadata": {},
   "source": [
    "We have corrected 465 columns so far and possible 35 more to correct."
   ]
  },
  {
   "cell_type": "code",
   "execution_count": 47,
   "metadata": {},
   "outputs": [
    {
     "data": {
      "text/html": [
       "<div>\n",
       "<style scoped>\n",
       "    .dataframe tbody tr th:only-of-type {\n",
       "        vertical-align: middle;\n",
       "    }\n",
       "\n",
       "    .dataframe tbody tr th {\n",
       "        vertical-align: top;\n",
       "    }\n",
       "\n",
       "    .dataframe thead th {\n",
       "        text-align: right;\n",
       "    }\n",
       "</style>\n",
       "<table border=\"1\" class=\"dataframe\">\n",
       "  <thead>\n",
       "    <tr style=\"text-align: right;\">\n",
       "      <th></th>\n",
       "      <th>sales_id</th>\n",
       "      <th>date</th>\n",
       "      <th>time</th>\n",
       "      <th>shopping_cart</th>\n",
       "      <th>price</th>\n",
       "      <th>parcel_size</th>\n",
       "      <th>Customer_lat</th>\n",
       "      <th>Customer_long</th>\n",
       "      <th>isLoyaltyProgram</th>\n",
       "      <th>nearest_storehouse_id</th>\n",
       "      <th>nearest_storehouse</th>\n",
       "      <th>dist_to_nearest_storehouse</th>\n",
       "      <th>delivery_cost</th>\n",
       "      <th>corrected</th>\n",
       "    </tr>\n",
       "  </thead>\n",
       "  <tbody>\n",
       "    <tr>\n",
       "      <th>0</th>\n",
       "      <td>ORD0098289</td>\n",
       "      <td>23/08/2018</td>\n",
       "      <td>13:20:09</td>\n",
       "      <td>[('wardrobe', 3), ('Study_table', 1), ('mattre...</td>\n",
       "      <td>3947.95</td>\n",
       "      <td>small</td>\n",
       "      <td>-37.97401</td>\n",
       "      <td>145.13263</td>\n",
       "      <td>1</td>\n",
       "      <td>4</td>\n",
       "      <td>Sunshine</td>\n",
       "      <td>26.30</td>\n",
       "      <td>5.7555</td>\n",
       "      <td>1</td>\n",
       "    </tr>\n",
       "    <tr>\n",
       "      <th>1</th>\n",
       "      <td>ORD0059355</td>\n",
       "      <td>10/06/2021</td>\n",
       "      <td>03:39:49</td>\n",
       "      <td>[('sofa', 3), ('Study_table', 1), ('wardrobe',...</td>\n",
       "      <td>5905.28</td>\n",
       "      <td>large</td>\n",
       "      <td>-37.44465</td>\n",
       "      <td>146.06201</td>\n",
       "      <td>0</td>\n",
       "      <td>4</td>\n",
       "      <td>Sunshine</td>\n",
       "      <td>109.22</td>\n",
       "      <td>6.3135</td>\n",
       "      <td>1</td>\n",
       "    </tr>\n",
       "    <tr>\n",
       "      <th>2</th>\n",
       "      <td>ORD0047399</td>\n",
       "      <td>17/01/2018</td>\n",
       "      <td>00:54:19</td>\n",
       "      <td>[('bed', 3), ('Chair', 2), ('mattress', 4)]</td>\n",
       "      <td>3208.60</td>\n",
       "      <td>small</td>\n",
       "      <td>-37.70571</td>\n",
       "      <td>144.67023</td>\n",
       "      <td>1</td>\n",
       "      <td>2</td>\n",
       "      <td>Footscray</td>\n",
       "      <td>30.83</td>\n",
       "      <td>16.5465</td>\n",
       "      <td>1</td>\n",
       "    </tr>\n",
       "    <tr>\n",
       "      <th>3</th>\n",
       "      <td>ORD0017839</td>\n",
       "      <td>25/09/2020</td>\n",
       "      <td>10:04:42</td>\n",
       "      <td>[('Study_table', 3), ('side_table', 1), ('sofa...</td>\n",
       "      <td>4181.73</td>\n",
       "      <td>large</td>\n",
       "      <td>-38.12096</td>\n",
       "      <td>144.48595</td>\n",
       "      <td>0</td>\n",
       "      <td>2</td>\n",
       "      <td>Footscray</td>\n",
       "      <td>56.47</td>\n",
       "      <td>18.5895</td>\n",
       "      <td>1</td>\n",
       "    </tr>\n",
       "    <tr>\n",
       "      <th>4</th>\n",
       "      <td>ORD0085472</td>\n",
       "      <td>21/10/2019</td>\n",
       "      <td>07:24:16</td>\n",
       "      <td>[('bed', 1), ('Chair', 2), ('Study_table', 4),...</td>\n",
       "      <td>948.18</td>\n",
       "      <td>small</td>\n",
       "      <td>-37.90113</td>\n",
       "      <td>145.21092</td>\n",
       "      <td>1</td>\n",
       "      <td>4</td>\n",
       "      <td>Sunshine</td>\n",
       "      <td>27.95</td>\n",
       "      <td>5.8635</td>\n",
       "      <td>1</td>\n",
       "    </tr>\n",
       "    <tr>\n",
       "      <th>...</th>\n",
       "      <td>...</td>\n",
       "      <td>...</td>\n",
       "      <td>...</td>\n",
       "      <td>...</td>\n",
       "      <td>...</td>\n",
       "      <td>...</td>\n",
       "      <td>...</td>\n",
       "      <td>...</td>\n",
       "      <td>...</td>\n",
       "      <td>...</td>\n",
       "      <td>...</td>\n",
       "      <td>...</td>\n",
       "      <td>...</td>\n",
       "      <td>...</td>\n",
       "    </tr>\n",
       "    <tr>\n",
       "      <th>495</th>\n",
       "      <td>ORD0071467</td>\n",
       "      <td>04/03/2019</td>\n",
       "      <td>16:04:07</td>\n",
       "      <td>[('Dining_table', 4), ('side_table', 1), ('war...</td>\n",
       "      <td>770.11</td>\n",
       "      <td>small</td>\n",
       "      <td>-37.64484</td>\n",
       "      <td>146.09352</td>\n",
       "      <td>1</td>\n",
       "      <td>4</td>\n",
       "      <td>Sunshine</td>\n",
       "      <td>105.54</td>\n",
       "      <td>5.9985</td>\n",
       "      <td>1</td>\n",
       "    </tr>\n",
       "    <tr>\n",
       "      <th>496</th>\n",
       "      <td>ORD0062699</td>\n",
       "      <td>20/05/2021</td>\n",
       "      <td>01:58:02</td>\n",
       "      <td>[('Chair', 1), ('mattress', 2), ('Dining_table...</td>\n",
       "      <td>1995.56</td>\n",
       "      <td>medium</td>\n",
       "      <td>-38.08212</td>\n",
       "      <td>144.63084</td>\n",
       "      <td>0</td>\n",
       "      <td>2</td>\n",
       "      <td>Footscray</td>\n",
       "      <td>44.01</td>\n",
       "      <td>19.1385</td>\n",
       "      <td>1</td>\n",
       "    </tr>\n",
       "    <tr>\n",
       "      <th>497</th>\n",
       "      <td>ORD0047602</td>\n",
       "      <td>04/08/2021</td>\n",
       "      <td>12:46:03</td>\n",
       "      <td>[('Study_table', 4), ('side_table', 4), ('bed'...</td>\n",
       "      <td>3964.08</td>\n",
       "      <td>large</td>\n",
       "      <td>-38.37522</td>\n",
       "      <td>144.77619</td>\n",
       "      <td>1</td>\n",
       "      <td>2</td>\n",
       "      <td>Footscray</td>\n",
       "      <td>65.71</td>\n",
       "      <td>18.4005</td>\n",
       "      <td>1</td>\n",
       "    </tr>\n",
       "    <tr>\n",
       "      <th>498</th>\n",
       "      <td>ORD0076621</td>\n",
       "      <td>17/01/2020</td>\n",
       "      <td>11:35:20</td>\n",
       "      <td>[('Study_table', 3), ('Chair', 1), ('bed', 3),...</td>\n",
       "      <td>2914.21</td>\n",
       "      <td>medium</td>\n",
       "      <td>-37.51985</td>\n",
       "      <td>145.06685</td>\n",
       "      <td>1</td>\n",
       "      <td>4</td>\n",
       "      <td>Sunshine</td>\n",
       "      <td>35.37</td>\n",
       "      <td>7.0065</td>\n",
       "      <td>1</td>\n",
       "    </tr>\n",
       "    <tr>\n",
       "      <th>499</th>\n",
       "      <td>ORD0039082</td>\n",
       "      <td>09/06/2020</td>\n",
       "      <td>14:17:57</td>\n",
       "      <td>[('mattress', 4), ('wardrobe', 2), ('bed', 4),...</td>\n",
       "      <td>5742.14</td>\n",
       "      <td>large</td>\n",
       "      <td>-37.97987</td>\n",
       "      <td>144.82368</td>\n",
       "      <td>1</td>\n",
       "      <td>2</td>\n",
       "      <td>Footscray</td>\n",
       "      <td>24.15</td>\n",
       "      <td>18.2925</td>\n",
       "      <td>1</td>\n",
       "    </tr>\n",
       "  </tbody>\n",
       "</table>\n",
       "<p>500 rows × 14 columns</p>\n",
       "</div>"
      ],
      "text/plain": [
       "       sales_id        date      time  \\\n",
       "0    ORD0098289  23/08/2018  13:20:09   \n",
       "1    ORD0059355  10/06/2021  03:39:49   \n",
       "2    ORD0047399  17/01/2018  00:54:19   \n",
       "3    ORD0017839  25/09/2020  10:04:42   \n",
       "4    ORD0085472  21/10/2019  07:24:16   \n",
       "..          ...         ...       ...   \n",
       "495  ORD0071467  04/03/2019  16:04:07   \n",
       "496  ORD0062699  20/05/2021  01:58:02   \n",
       "497  ORD0047602  04/08/2021  12:46:03   \n",
       "498  ORD0076621  17/01/2020  11:35:20   \n",
       "499  ORD0039082  09/06/2020  14:17:57   \n",
       "\n",
       "                                         shopping_cart    price parcel_size  \\\n",
       "0    [('wardrobe', 3), ('Study_table', 1), ('mattre...  3947.95       small   \n",
       "1    [('sofa', 3), ('Study_table', 1), ('wardrobe',...  5905.28       large   \n",
       "2          [('bed', 3), ('Chair', 2), ('mattress', 4)]  3208.60       small   \n",
       "3    [('Study_table', 3), ('side_table', 1), ('sofa...  4181.73       large   \n",
       "4    [('bed', 1), ('Chair', 2), ('Study_table', 4),...   948.18       small   \n",
       "..                                                 ...      ...         ...   \n",
       "495  [('Dining_table', 4), ('side_table', 1), ('war...   770.11       small   \n",
       "496  [('Chair', 1), ('mattress', 2), ('Dining_table...  1995.56      medium   \n",
       "497  [('Study_table', 4), ('side_table', 4), ('bed'...  3964.08       large   \n",
       "498  [('Study_table', 3), ('Chair', 1), ('bed', 3),...  2914.21      medium   \n",
       "499  [('mattress', 4), ('wardrobe', 2), ('bed', 4),...  5742.14       large   \n",
       "\n",
       "     Customer_lat  Customer_long  isLoyaltyProgram  nearest_storehouse_id  \\\n",
       "0       -37.97401      145.13263                 1                      4   \n",
       "1       -37.44465      146.06201                 0                      4   \n",
       "2       -37.70571      144.67023                 1                      2   \n",
       "3       -38.12096      144.48595                 0                      2   \n",
       "4       -37.90113      145.21092                 1                      4   \n",
       "..            ...            ...               ...                    ...   \n",
       "495     -37.64484      146.09352                 1                      4   \n",
       "496     -38.08212      144.63084                 0                      2   \n",
       "497     -38.37522      144.77619                 1                      2   \n",
       "498     -37.51985      145.06685                 1                      4   \n",
       "499     -37.97987      144.82368                 1                      2   \n",
       "\n",
       "    nearest_storehouse  dist_to_nearest_storehouse  delivery_cost  corrected  \n",
       "0             Sunshine                       26.30         5.7555          1  \n",
       "1             Sunshine                      109.22         6.3135          1  \n",
       "2            Footscray                       30.83        16.5465          1  \n",
       "3            Footscray                       56.47        18.5895          1  \n",
       "4             Sunshine                       27.95         5.8635          1  \n",
       "..                 ...                         ...            ...        ...  \n",
       "495           Sunshine                      105.54         5.9985          1  \n",
       "496          Footscray                       44.01        19.1385          1  \n",
       "497          Footscray                       65.71        18.4005          1  \n",
       "498           Sunshine                       35.37         7.0065          1  \n",
       "499          Footscray                       24.15        18.2925          1  \n",
       "\n",
       "[500 rows x 14 columns]"
      ]
     },
     "execution_count": 47,
     "metadata": {},
     "output_type": "execute_result"
    }
   ],
   "source": [
    "dirty_data"
   ]
  },
  {
   "cell_type": "code",
   "execution_count": 48,
   "metadata": {},
   "outputs": [],
   "source": [
    "dirty_data_final = dirty_data.drop(['corrected'],axis = 1)"
   ]
  },
  {
   "cell_type": "markdown",
   "metadata": {},
   "source": [
    "Writing the final dirty_data dataframe to a csv file."
   ]
  },
  {
   "cell_type": "code",
   "execution_count": 49,
   "metadata": {},
   "outputs": [],
   "source": [
    "dirty_data_final.to_csv('32157738_dirty_data_solution.csv',index=False)"
   ]
  },
  {
   "cell_type": "markdown",
   "metadata": {},
   "source": [
    "## Missing Data"
   ]
  },
  {
   "cell_type": "markdown",
   "metadata": {},
   "source": [
    "In statistics, missing data, or missing values, occur when no data value is stored for the variable in an observation. Missing data are a common occurrence and can have a significant effect on the conclusions that can be drawn from the data. A data scientists job is to decide whether to impute or drop the missing data. We can impute the missing data if it is a dependant on other variables existing in the data. "
   ]
  },
  {
   "cell_type": "markdown",
   "metadata": {},
   "source": [
    "### a. Reading Data:\n",
    "\n",
    "Data we are using in this project for missing data is in the csv file ```32157738_missing_data.csv```. This file can be parsed using the pandas into a dataframe. Data format is similar to that of the dirty data. After reading the data we can notice there are null values only in Price and delivery_cost. We have prices for individual items to calculate price and the linear regression model to calculate the delivery_cost."
   ]
  },
  {
   "cell_type": "code",
   "execution_count": 50,
   "metadata": {},
   "outputs": [],
   "source": [
    "missing_data = pd.read_csv(\"./32157738_missing_data.csv\")"
   ]
  },
  {
   "cell_type": "code",
   "execution_count": 51,
   "metadata": {
    "scrolled": true
   },
   "outputs": [
    {
     "name": "stdout",
     "output_type": "stream",
     "text": [
      "<class 'pandas.core.frame.DataFrame'>\n",
      "RangeIndex: 300 entries, 0 to 299\n",
      "Data columns (total 13 columns):\n",
      " #   Column                      Non-Null Count  Dtype  \n",
      "---  ------                      --------------  -----  \n",
      " 0   sales_id                    300 non-null    object \n",
      " 1   date                        300 non-null    object \n",
      " 2   time                        300 non-null    object \n",
      " 3   shopping_cart               300 non-null    object \n",
      " 4   price                       293 non-null    float64\n",
      " 5   parcel_size                 300 non-null    object \n",
      " 6   Customer_lat                300 non-null    float64\n",
      " 7   Customer_long               300 non-null    float64\n",
      " 8   isLoyaltyProgram            300 non-null    int64  \n",
      " 9   nearest_storehouse_id       300 non-null    int64  \n",
      " 10  nearest_storehouse          300 non-null    object \n",
      " 11  dist_to_nearest_storehouse  300 non-null    float64\n",
      " 12  delivery_cost               283 non-null    float64\n",
      "dtypes: float64(5), int64(2), object(6)\n",
      "memory usage: 30.6+ KB\n"
     ]
    }
   ],
   "source": [
    "missing_data.info()"
   ]
  },
  {
   "cell_type": "code",
   "execution_count": 52,
   "metadata": {
    "scrolled": true
   },
   "outputs": [
    {
     "data": {
      "text/html": [
       "<div>\n",
       "<style scoped>\n",
       "    .dataframe tbody tr th:only-of-type {\n",
       "        vertical-align: middle;\n",
       "    }\n",
       "\n",
       "    .dataframe tbody tr th {\n",
       "        vertical-align: top;\n",
       "    }\n",
       "\n",
       "    .dataframe thead th {\n",
       "        text-align: right;\n",
       "    }\n",
       "</style>\n",
       "<table border=\"1\" class=\"dataframe\">\n",
       "  <thead>\n",
       "    <tr style=\"text-align: right;\">\n",
       "      <th></th>\n",
       "      <th>price</th>\n",
       "      <th>Customer_lat</th>\n",
       "      <th>Customer_long</th>\n",
       "      <th>isLoyaltyProgram</th>\n",
       "      <th>nearest_storehouse_id</th>\n",
       "      <th>dist_to_nearest_storehouse</th>\n",
       "      <th>delivery_cost</th>\n",
       "    </tr>\n",
       "  </thead>\n",
       "  <tbody>\n",
       "    <tr>\n",
       "      <th>count</th>\n",
       "      <td>293.000000</td>\n",
       "      <td>300.000000</td>\n",
       "      <td>300.000000</td>\n",
       "      <td>300.000000</td>\n",
       "      <td>300.000000</td>\n",
       "      <td>300.000000</td>\n",
       "      <td>283.000000</td>\n",
       "    </tr>\n",
       "    <tr>\n",
       "      <th>mean</th>\n",
       "      <td>3156.653038</td>\n",
       "      <td>-37.942978</td>\n",
       "      <td>145.351867</td>\n",
       "      <td>0.500000</td>\n",
       "      <td>3.443333</td>\n",
       "      <td>63.841500</td>\n",
       "      <td>9.866010</td>\n",
       "    </tr>\n",
       "    <tr>\n",
       "      <th>std</th>\n",
       "      <td>1332.039053</td>\n",
       "      <td>0.316058</td>\n",
       "      <td>0.493765</td>\n",
       "      <td>0.500835</td>\n",
       "      <td>0.957346</td>\n",
       "      <td>28.388734</td>\n",
       "      <td>5.683951</td>\n",
       "    </tr>\n",
       "    <tr>\n",
       "      <th>min</th>\n",
       "      <td>528.690000</td>\n",
       "      <td>-38.498340</td>\n",
       "      <td>144.449590</td>\n",
       "      <td>0.000000</td>\n",
       "      <td>0.000000</td>\n",
       "      <td>5.640000</td>\n",
       "      <td>5.260500</td>\n",
       "    </tr>\n",
       "    <tr>\n",
       "      <th>25%</th>\n",
       "      <td>2178.120000</td>\n",
       "      <td>-38.205435</td>\n",
       "      <td>144.948577</td>\n",
       "      <td>0.000000</td>\n",
       "      <td>2.750000</td>\n",
       "      <td>42.270000</td>\n",
       "      <td>6.237000</td>\n",
       "    </tr>\n",
       "    <tr>\n",
       "      <th>50%</th>\n",
       "      <td>3161.880000</td>\n",
       "      <td>-37.933260</td>\n",
       "      <td>145.380110</td>\n",
       "      <td>0.500000</td>\n",
       "      <td>4.000000</td>\n",
       "      <td>62.375000</td>\n",
       "      <td>6.808500</td>\n",
       "    </tr>\n",
       "    <tr>\n",
       "      <th>75%</th>\n",
       "      <td>4132.920000</td>\n",
       "      <td>-37.699680</td>\n",
       "      <td>145.779198</td>\n",
       "      <td>1.000000</td>\n",
       "      <td>4.000000</td>\n",
       "      <td>84.287500</td>\n",
       "      <td>16.668000</td>\n",
       "    </tr>\n",
       "    <tr>\n",
       "      <th>max</th>\n",
       "      <td>6421.580000</td>\n",
       "      <td>-37.408540</td>\n",
       "      <td>146.176150</td>\n",
       "      <td>1.000000</td>\n",
       "      <td>4.000000</td>\n",
       "      <td>130.700000</td>\n",
       "      <td>28.287900</td>\n",
       "    </tr>\n",
       "  </tbody>\n",
       "</table>\n",
       "</div>"
      ],
      "text/plain": [
       "             price  Customer_lat  Customer_long  isLoyaltyProgram  \\\n",
       "count   293.000000    300.000000     300.000000        300.000000   \n",
       "mean   3156.653038    -37.942978     145.351867          0.500000   \n",
       "std    1332.039053      0.316058       0.493765          0.500835   \n",
       "min     528.690000    -38.498340     144.449590          0.000000   \n",
       "25%    2178.120000    -38.205435     144.948577          0.000000   \n",
       "50%    3161.880000    -37.933260     145.380110          0.500000   \n",
       "75%    4132.920000    -37.699680     145.779198          1.000000   \n",
       "max    6421.580000    -37.408540     146.176150          1.000000   \n",
       "\n",
       "       nearest_storehouse_id  dist_to_nearest_storehouse  delivery_cost  \n",
       "count             300.000000                  300.000000     283.000000  \n",
       "mean                3.443333                   63.841500       9.866010  \n",
       "std                 0.957346                   28.388734       5.683951  \n",
       "min                 0.000000                    5.640000       5.260500  \n",
       "25%                 2.750000                   42.270000       6.237000  \n",
       "50%                 4.000000                   62.375000       6.808500  \n",
       "75%                 4.000000                   84.287500      16.668000  \n",
       "max                 4.000000                  130.700000      28.287900  "
      ]
     },
     "execution_count": 52,
     "metadata": {},
     "output_type": "execute_result"
    }
   ],
   "source": [
    "missing_data.describe()"
   ]
  },
  {
   "cell_type": "markdown",
   "metadata": {},
   "source": [
    "### b. Imputing Missing data\n",
    "\n",
    "#### i) Imputing price values\n",
    "\n",
    "We have the price for each item which we derived earlier in the dirty data part. We can use the same values to compute the price of each order. Item name and item price are present in items_name and item_price lists."
   ]
  },
  {
   "cell_type": "code",
   "execution_count": 53,
   "metadata": {},
   "outputs": [
    {
     "data": {
      "text/plain": [
       "array([ 89.2 , 109.56,  71.99, 381.92, 471.11,  49.95, 339.49, 281.92])"
      ]
     },
     "execution_count": 53,
     "metadata": {},
     "output_type": "execute_result"
    }
   ],
   "source": [
    "items_name\n",
    "item_price"
   ]
  },
  {
   "cell_type": "code",
   "execution_count": 54,
   "metadata": {},
   "outputs": [],
   "source": [
    "# extracting all columns in shopping cart and forming list of list\n",
    "shopping_lst = [ eval(missing_data['shopping_cart'][j]) for j in range ( len ( missing_data))]\n",
    "\n",
    "items_outlier = sep_item_quantity(shopping_lst)\n",
    "\n",
    "items_quantity = items_outlier[0]\n",
    "# a = items quantities (500x10)\n",
    "items = items_outlier[1]\n",
    "# item names"
   ]
  },
  {
   "cell_type": "markdown",
   "metadata": {},
   "source": [
    "Now that we have the items_quantity, let us calculate the price for all columns and assign it to the price column in missing_data file."
   ]
  },
  {
   "cell_type": "code",
   "execution_count": 55,
   "metadata": {},
   "outputs": [],
   "source": [
    "list1 = list()\n",
    "for i in (items_quantity*item_price):\n",
    "    list1.append(round(sum(i),2))"
   ]
  },
  {
   "cell_type": "code",
   "execution_count": 56,
   "metadata": {},
   "outputs": [],
   "source": [
    "#assigning values to the price column from calculated column.\n",
    "missing_data['price']=list1"
   ]
  },
  {
   "cell_type": "markdown",
   "metadata": {},
   "source": [
    "#### ii) Imputing delivery cost values\n",
    "\n",
    "To Impute missing values for delivery costs we need to build a linear regression model that will help us calculate the delivery cost"
   ]
  },
  {
   "cell_type": "code",
   "execution_count": 57,
   "metadata": {},
   "outputs": [
    {
     "data": {
      "text/plain": [
       "300"
      ]
     },
     "execution_count": 57,
     "metadata": {},
     "output_type": "execute_result"
    }
   ],
   "source": [
    "missing_data_mod = missing_data[(missing_data['nearest_storehouse'] != 'NaN')& \n",
    "                                (missing_data['dist_to_nearest_storehouse'] != 'NaN') &\n",
    "                                (missing_data['delivery_cost'] != 'NaN') &\n",
    "                                (missing_data['date'] != 'NaN') \n",
    "                               ]\n",
    "len(missing_data_mod)"
   ]
  },
  {
   "cell_type": "markdown",
   "metadata": {},
   "source": [
    "We have about 300 rows from missing_data that we can use for the model as well as 465 columns from dirty_data we already corrected. We can use both of these dataframes and get the linear model."
   ]
  },
  {
   "cell_type": "code",
   "execution_count": 58,
   "metadata": {},
   "outputs": [],
   "source": [
    "dirty_data_mod = dirty_data[dirty_data['corrected']==1]\n",
    "\n",
    "dirty_data_mod = dirty_data_mod.drop(['corrected'], axis=1)\n"
   ]
  },
  {
   "cell_type": "code",
   "execution_count": 59,
   "metadata": {},
   "outputs": [],
   "source": [
    "frames= [dirty_data_mod,missing_data_mod]\n",
    "df_linmod = pd.concat(frames)\n",
    "df_linmod = df_linmod[(df_linmod['nearest_storehouse']=='Sunshine')|(df_linmod['nearest_storehouse']=='Footscray')]\n",
    "df_linmod = df_linmod.dropna(thresh=1)\n",
    "df_linmod = df_linmod.reset_index()"
   ]
  },
  {
   "cell_type": "markdown",
   "metadata": {},
   "source": [
    "Let us add the season column and then remove the columns that we do not need for the linear model. Assuming that the loyalty program value is correct in all of these rows let us get the non-adjusted delivery cost at each row and use it for the analysis. Since it is known that rows that have 1 in 'isLoyaltyProgram' gets a 10% discount. We will adjust these columns to actual values had they have no discount"
   ]
  },
  {
   "cell_type": "code",
   "execution_count": 60,
   "metadata": {},
   "outputs": [],
   "source": [
    "#adding seasons\n",
    "df_linmod['season'] =df_linmod.apply(lambda x:  \"Summer\" if x['date'][3:5] in ('01','02','12') \n",
    "                                     else (\"Autumn\" if x['date'][3:5] in ('03','04','05') \n",
    "                                           else (\"Winter\" if x['date'][3:5] in ('06','07','08') \n",
    "                                                 else(\"Spring\" if x['date'][3:5] in ('09','10','11') \n",
    "                                                      else \"season2\"))),axis=1)"
   ]
  },
  {
   "cell_type": "code",
   "execution_count": 61,
   "metadata": {},
   "outputs": [],
   "source": [
    "#adding adjusted delivery cost\n",
    "df_linmod['adj_delivery'] =df_linmod.apply(lambda x:  x['delivery_cost'] if x['isLoyaltyProgram']==0 \n",
    "                                           else x['delivery_cost']*10/9 ,axis=1)"
   ]
  },
  {
   "cell_type": "code",
   "execution_count": 62,
   "metadata": {},
   "outputs": [],
   "source": [
    "df_linmod = df_linmod.drop(['index','sales_id','date','time','shopping_cart','price','parcel_size',\n",
    "                           'Customer_lat','Customer_long','nearest_storehouse_id','delivery_cost','isLoyaltyProgram'],axis =1)"
   ]
  },
  {
   "cell_type": "code",
   "execution_count": 63,
   "metadata": {
    "scrolled": true
   },
   "outputs": [],
   "source": [
    "df_linmod = pd.get_dummies(df_linmod,prefix=['season'],columns=['season'])\n",
    "df_linmod = pd.get_dummies(df_linmod,prefix=['store'],columns=['nearest_storehouse'])\n",
    "df_linmod = df_linmod.dropna(thresh=1)"
   ]
  },
  {
   "cell_type": "code",
   "execution_count": 64,
   "metadata": {},
   "outputs": [],
   "source": [
    "df_linmod = df_linmod[~df_linmod['adj_delivery'].isna()]\n",
    "\n",
    "df_linmod = df_linmod.reset_index()\n",
    "#df_linmod"
   ]
  },
  {
   "cell_type": "code",
   "execution_count": 65,
   "metadata": {},
   "outputs": [],
   "source": [
    "#separating Dependent and Independent Variables for the modelling.\n",
    "#Independent Variables\n",
    "X_lin = df_linmod.loc[:,['dist_to_nearest_storehouse','season_Autumn','season_Spring','season_Summer',\n",
    "                         'season_Winter','store_Footscray','store_Sunshine']]\n",
    "\n",
    "#Dependent Variables\n",
    "\n",
    "Y_lin = df_linmod.loc[:,['adj_delivery']]"
   ]
  },
  {
   "cell_type": "markdown",
   "metadata": {},
   "source": [
    "To see how well we can divide the data into test and train and calibarate our train and test size (Brownlee, 2020). Here I have changed my test_size between 0.15 to 0.3 and finally settled for 0.22 where my model is giving the least mean squared error."
   ]
  },
  {
   "cell_type": "code",
   "execution_count": 66,
   "metadata": {},
   "outputs": [],
   "source": [
    "from sklearn.model_selection import train_test_split\n",
    "X_train1, X_test1, y_train1, y_test1 = train_test_split(X_lin, Y_lin, test_size=0.22, random_state=1)\n",
    "\n",
    "#train_test_split(y, shuffle=False)"
   ]
  },
  {
   "cell_type": "code",
   "execution_count": 67,
   "metadata": {},
   "outputs": [
    {
     "data": {
      "text/plain": [
       "LinearRegression()"
      ]
     },
     "execution_count": 67,
     "metadata": {},
     "output_type": "execute_result"
    }
   ],
   "source": [
    "#Generating a linear model\n",
    "#import statsmodels.api as sm\n",
    "#import statsmodels.formula.api as smf\n",
    "from sklearn import linear_model\n",
    "regr_model = linear_model.LinearRegression()\n",
    "regr_model.fit(X_train1,y_train1)"
   ]
  },
  {
   "cell_type": "code",
   "execution_count": 68,
   "metadata": {},
   "outputs": [],
   "source": [
    "y_pred = regr_model.predict(X_test1)"
   ]
  },
  {
   "cell_type": "code",
   "execution_count": 69,
   "metadata": {},
   "outputs": [
    {
     "name": "stdout",
     "output_type": "stream",
     "text": [
      "0.583573548192803\n",
      "0.976560694320849\n"
     ]
    }
   ],
   "source": [
    "from sklearn.metrics import mean_squared_error\n",
    "from sklearn.metrics import r2_score\n",
    "print(mean_squared_error(y_test1, y_pred))\n",
    "print(r2_score(y_test1, y_pred))\n"
   ]
  },
  {
   "cell_type": "markdown",
   "metadata": {},
   "source": [
    "Now using the above model  we will predict the values for missing rows."
   ]
  },
  {
   "cell_type": "code",
   "execution_count": 70,
   "metadata": {},
   "outputs": [],
   "source": [
    "missing_data['season'] =missing_data.apply(lambda x:  \"Summer\" if x['date'][3:5] in ('01','02','12') else (\"Autumn\" if x['date'][3:5] in ('03','04','05') else (\"Winter\" if x['date'][3:5] in ('06','07','08') else(\"Spring\" if x['date'][3:5] in ('09','10','11') else \"season2\"))),axis=1)"
   ]
  },
  {
   "cell_type": "code",
   "execution_count": 71,
   "metadata": {},
   "outputs": [],
   "source": [
    "missing_data_calc = pd.get_dummies(missing_data,prefix=['season'],columns=['season'])\n",
    "missing_data_calc = pd.get_dummies(missing_data_calc,prefix=['store'],columns=['nearest_storehouse'])"
   ]
  },
  {
   "cell_type": "code",
   "execution_count": 72,
   "metadata": {},
   "outputs": [],
   "source": [
    "missing_data_calc['calculated_delivery'] = 0\n",
    "\n",
    "missing_data_calc['calculated_delivery'] = regr_model.predict(missing_data_calc.loc[:,['dist_to_nearest_storehouse','season_Autumn','season_Spring','season_Summer',\n",
    "                         'season_Winter','store_Footscray','store_Sunshine']])\n",
    "\n",
    "missing_data['calculated_delivery'] = missing_data_calc['calculated_delivery']"
   ]
  },
  {
   "cell_type": "markdown",
   "metadata": {},
   "source": [
    "This calculated delivery cost is not adjusted for loyalty, let us adjust it for that and then proceed to fill missing delivery cost values."
   ]
  },
  {
   "cell_type": "code",
   "execution_count": 73,
   "metadata": {},
   "outputs": [],
   "source": [
    "missing_data['calculated_delivery'] =missing_data.apply(lambda x:  x['calculated_delivery'] if x['isLoyaltyProgram']==0 else x['calculated_delivery']*9/10 ,axis=1)"
   ]
  },
  {
   "cell_type": "code",
   "execution_count": 74,
   "metadata": {},
   "outputs": [],
   "source": [
    "missing_data['delivery_cost'] =missing_data.apply(lambda x:  x['calculated_delivery'] if pd.isnull(x['delivery_cost']) else x['delivery_cost'] ,axis=1)"
   ]
  },
  {
   "cell_type": "code",
   "execution_count": 75,
   "metadata": {},
   "outputs": [],
   "source": [
    "missing_data = missing_data.drop(columns=['season', 'calculated_delivery'])"
   ]
  },
  {
   "cell_type": "code",
   "execution_count": 76,
   "metadata": {},
   "outputs": [
    {
     "data": {
      "text/html": [
       "<div>\n",
       "<style scoped>\n",
       "    .dataframe tbody tr th:only-of-type {\n",
       "        vertical-align: middle;\n",
       "    }\n",
       "\n",
       "    .dataframe tbody tr th {\n",
       "        vertical-align: top;\n",
       "    }\n",
       "\n",
       "    .dataframe thead th {\n",
       "        text-align: right;\n",
       "    }\n",
       "</style>\n",
       "<table border=\"1\" class=\"dataframe\">\n",
       "  <thead>\n",
       "    <tr style=\"text-align: right;\">\n",
       "      <th></th>\n",
       "      <th>sales_id</th>\n",
       "      <th>date</th>\n",
       "      <th>time</th>\n",
       "      <th>shopping_cart</th>\n",
       "      <th>price</th>\n",
       "      <th>parcel_size</th>\n",
       "      <th>Customer_lat</th>\n",
       "      <th>Customer_long</th>\n",
       "      <th>isLoyaltyProgram</th>\n",
       "      <th>nearest_storehouse_id</th>\n",
       "      <th>nearest_storehouse</th>\n",
       "      <th>dist_to_nearest_storehouse</th>\n",
       "      <th>delivery_cost</th>\n",
       "    </tr>\n",
       "  </thead>\n",
       "  <tbody>\n",
       "    <tr>\n",
       "      <th>0</th>\n",
       "      <td>ORD0097577</td>\n",
       "      <td>01/04/2021</td>\n",
       "      <td>21:33:42</td>\n",
       "      <td>[('Chair', 2), ('Dining_table', 1), ('mattress...</td>\n",
       "      <td>759.07</td>\n",
       "      <td>small</td>\n",
       "      <td>-38.13677</td>\n",
       "      <td>145.83075</td>\n",
       "      <td>1</td>\n",
       "      <td>4</td>\n",
       "      <td>Sunshine</td>\n",
       "      <td>88.15</td>\n",
       "      <td>7.150500</td>\n",
       "    </tr>\n",
       "    <tr>\n",
       "      <th>1</th>\n",
       "      <td>ORD0076455</td>\n",
       "      <td>21/12/2019</td>\n",
       "      <td>12:22:04</td>\n",
       "      <td>[('mattress', 1), ('Chair', 4), ('bed', 2), ('...</td>\n",
       "      <td>1879.71</td>\n",
       "      <td>small</td>\n",
       "      <td>-38.44031</td>\n",
       "      <td>145.24574</td>\n",
       "      <td>1</td>\n",
       "      <td>4</td>\n",
       "      <td>Sunshine</td>\n",
       "      <td>75.55</td>\n",
       "      <td>5.619904</td>\n",
       "    </tr>\n",
       "    <tr>\n",
       "      <th>2</th>\n",
       "      <td>ORD0067094</td>\n",
       "      <td>14/04/2019</td>\n",
       "      <td>05:29:37</td>\n",
       "      <td>[('side_table', 4), ('wardrobe', 4), ('Chair',...</td>\n",
       "      <td>1505.88</td>\n",
       "      <td>small</td>\n",
       "      <td>-37.66793</td>\n",
       "      <td>145.02102</td>\n",
       "      <td>0</td>\n",
       "      <td>4</td>\n",
       "      <td>Sunshine</td>\n",
       "      <td>18.79</td>\n",
       "      <td>6.538500</td>\n",
       "    </tr>\n",
       "    <tr>\n",
       "      <th>3</th>\n",
       "      <td>ORD0022905</td>\n",
       "      <td>05/11/2020</td>\n",
       "      <td>13:48:54</td>\n",
       "      <td>[('Chair', 2), ('mattress', 2), ('Dining_table...</td>\n",
       "      <td>3274.04</td>\n",
       "      <td>medium</td>\n",
       "      <td>-37.89575</td>\n",
       "      <td>145.11072</td>\n",
       "      <td>1</td>\n",
       "      <td>4</td>\n",
       "      <td>Sunshine</td>\n",
       "      <td>19.66</td>\n",
       "      <td>7.411500</td>\n",
       "    </tr>\n",
       "    <tr>\n",
       "      <th>4</th>\n",
       "      <td>ORD0021648</td>\n",
       "      <td>07/05/2020</td>\n",
       "      <td>20:55:56</td>\n",
       "      <td>[('mattress', 4), ('Study_table', 4), ('wardro...</td>\n",
       "      <td>3756.78</td>\n",
       "      <td>medium</td>\n",
       "      <td>-37.45684</td>\n",
       "      <td>146.11782</td>\n",
       "      <td>0</td>\n",
       "      <td>4</td>\n",
       "      <td>Sunshine</td>\n",
       "      <td>113.30</td>\n",
       "      <td>5.935500</td>\n",
       "    </tr>\n",
       "    <tr>\n",
       "      <th>...</th>\n",
       "      <td>...</td>\n",
       "      <td>...</td>\n",
       "      <td>...</td>\n",
       "      <td>...</td>\n",
       "      <td>...</td>\n",
       "      <td>...</td>\n",
       "      <td>...</td>\n",
       "      <td>...</td>\n",
       "      <td>...</td>\n",
       "      <td>...</td>\n",
       "      <td>...</td>\n",
       "      <td>...</td>\n",
       "      <td>...</td>\n",
       "    </tr>\n",
       "    <tr>\n",
       "      <th>295</th>\n",
       "      <td>ORD0040019</td>\n",
       "      <td>05/12/2021</td>\n",
       "      <td>04:19:47</td>\n",
       "      <td>[('mattress', 1), ('sofa', 3), ('wardrobe', 3)...</td>\n",
       "      <td>3074.06</td>\n",
       "      <td>medium</td>\n",
       "      <td>-37.68397</td>\n",
       "      <td>145.38118</td>\n",
       "      <td>1</td>\n",
       "      <td>4</td>\n",
       "      <td>Sunshine</td>\n",
       "      <td>43.65</td>\n",
       "      <td>5.485500</td>\n",
       "    </tr>\n",
       "    <tr>\n",
       "      <th>296</th>\n",
       "      <td>ORD0023141</td>\n",
       "      <td>03/06/2018</td>\n",
       "      <td>20:31:17</td>\n",
       "      <td>[('Chair', 1), ('side_table', 4), ('sofa', 3),...</td>\n",
       "      <td>4023.27</td>\n",
       "      <td>large</td>\n",
       "      <td>-38.37541</td>\n",
       "      <td>145.75300</td>\n",
       "      <td>0</td>\n",
       "      <td>4</td>\n",
       "      <td>Sunshine</td>\n",
       "      <td>96.51</td>\n",
       "      <td>7.177500</td>\n",
       "    </tr>\n",
       "    <tr>\n",
       "      <th>297</th>\n",
       "      <td>ORD0058992</td>\n",
       "      <td>25/04/2020</td>\n",
       "      <td>01:01:47</td>\n",
       "      <td>[('mattress', 4), ('Chair', 1), ('wardrobe', 2...</td>\n",
       "      <td>4995.54</td>\n",
       "      <td>large</td>\n",
       "      <td>-38.37470</td>\n",
       "      <td>145.17238</td>\n",
       "      <td>1</td>\n",
       "      <td>4</td>\n",
       "      <td>Sunshine</td>\n",
       "      <td>66.42</td>\n",
       "      <td>7.078500</td>\n",
       "    </tr>\n",
       "    <tr>\n",
       "      <th>298</th>\n",
       "      <td>ORD0065275</td>\n",
       "      <td>09/04/2018</td>\n",
       "      <td>13:19:22</td>\n",
       "      <td>[('Dining_table', 3), ('Study_table', 4), ('so...</td>\n",
       "      <td>2308.54</td>\n",
       "      <td>medium</td>\n",
       "      <td>-38.06817</td>\n",
       "      <td>145.82129</td>\n",
       "      <td>1</td>\n",
       "      <td>4</td>\n",
       "      <td>Sunshine</td>\n",
       "      <td>84.58</td>\n",
       "      <td>6.709500</td>\n",
       "    </tr>\n",
       "    <tr>\n",
       "      <th>299</th>\n",
       "      <td>ORD0081559</td>\n",
       "      <td>16/05/2018</td>\n",
       "      <td>06:22:37</td>\n",
       "      <td>[('mattress', 3), ('side_table', 1), ('bed', 4)]</td>\n",
       "      <td>2990.96</td>\n",
       "      <td>small</td>\n",
       "      <td>-38.07505</td>\n",
       "      <td>145.26655</td>\n",
       "      <td>0</td>\n",
       "      <td>4</td>\n",
       "      <td>Sunshine</td>\n",
       "      <td>42.54</td>\n",
       "      <td>6.682500</td>\n",
       "    </tr>\n",
       "  </tbody>\n",
       "</table>\n",
       "<p>300 rows × 13 columns</p>\n",
       "</div>"
      ],
      "text/plain": [
       "       sales_id        date      time  \\\n",
       "0    ORD0097577  01/04/2021  21:33:42   \n",
       "1    ORD0076455  21/12/2019  12:22:04   \n",
       "2    ORD0067094  14/04/2019  05:29:37   \n",
       "3    ORD0022905  05/11/2020  13:48:54   \n",
       "4    ORD0021648  07/05/2020  20:55:56   \n",
       "..          ...         ...       ...   \n",
       "295  ORD0040019  05/12/2021  04:19:47   \n",
       "296  ORD0023141  03/06/2018  20:31:17   \n",
       "297  ORD0058992  25/04/2020  01:01:47   \n",
       "298  ORD0065275  09/04/2018  13:19:22   \n",
       "299  ORD0081559  16/05/2018  06:22:37   \n",
       "\n",
       "                                         shopping_cart    price parcel_size  \\\n",
       "0    [('Chair', 2), ('Dining_table', 1), ('mattress...   759.07       small   \n",
       "1    [('mattress', 1), ('Chair', 4), ('bed', 2), ('...  1879.71       small   \n",
       "2    [('side_table', 4), ('wardrobe', 4), ('Chair',...  1505.88       small   \n",
       "3    [('Chair', 2), ('mattress', 2), ('Dining_table...  3274.04      medium   \n",
       "4    [('mattress', 4), ('Study_table', 4), ('wardro...  3756.78      medium   \n",
       "..                                                 ...      ...         ...   \n",
       "295  [('mattress', 1), ('sofa', 3), ('wardrobe', 3)...  3074.06      medium   \n",
       "296  [('Chair', 1), ('side_table', 4), ('sofa', 3),...  4023.27       large   \n",
       "297  [('mattress', 4), ('Chair', 1), ('wardrobe', 2...  4995.54       large   \n",
       "298  [('Dining_table', 3), ('Study_table', 4), ('so...  2308.54      medium   \n",
       "299   [('mattress', 3), ('side_table', 1), ('bed', 4)]  2990.96       small   \n",
       "\n",
       "     Customer_lat  Customer_long  isLoyaltyProgram  nearest_storehouse_id  \\\n",
       "0       -38.13677      145.83075                 1                      4   \n",
       "1       -38.44031      145.24574                 1                      4   \n",
       "2       -37.66793      145.02102                 0                      4   \n",
       "3       -37.89575      145.11072                 1                      4   \n",
       "4       -37.45684      146.11782                 0                      4   \n",
       "..            ...            ...               ...                    ...   \n",
       "295     -37.68397      145.38118                 1                      4   \n",
       "296     -38.37541      145.75300                 0                      4   \n",
       "297     -38.37470      145.17238                 1                      4   \n",
       "298     -38.06817      145.82129                 1                      4   \n",
       "299     -38.07505      145.26655                 0                      4   \n",
       "\n",
       "    nearest_storehouse  dist_to_nearest_storehouse  delivery_cost  \n",
       "0             Sunshine                       88.15       7.150500  \n",
       "1             Sunshine                       75.55       5.619904  \n",
       "2             Sunshine                       18.79       6.538500  \n",
       "3             Sunshine                       19.66       7.411500  \n",
       "4             Sunshine                      113.30       5.935500  \n",
       "..                 ...                         ...            ...  \n",
       "295           Sunshine                       43.65       5.485500  \n",
       "296           Sunshine                       96.51       7.177500  \n",
       "297           Sunshine                       66.42       7.078500  \n",
       "298           Sunshine                       84.58       6.709500  \n",
       "299           Sunshine                       42.54       6.682500  \n",
       "\n",
       "[300 rows x 13 columns]"
      ]
     },
     "execution_count": 76,
     "metadata": {},
     "output_type": "execute_result"
    }
   ],
   "source": [
    "missing_data"
   ]
  },
  {
   "cell_type": "markdown",
   "metadata": {},
   "source": [
    "We have imputed all the missing values in the file using the independant variables. Let us write into a csv file`"
   ]
  },
  {
   "cell_type": "code",
   "execution_count": 77,
   "metadata": {},
   "outputs": [],
   "source": [
    "missing_data.to_csv('32157738_missing_data_solution.csv',index=False)"
   ]
  },
  {
   "cell_type": "markdown",
   "metadata": {},
   "source": [
    "## Outlier Data"
   ]
  },
  {
   "cell_type": "markdown",
   "metadata": {},
   "source": [
    "In statistics occurs when there are values that are really high in some places. These are not erros however, having these values while implementing any statistical or predictive analysis will skew the result. Hence, it is advised to remove outliers when preparing data for analysis.\n",
    "\n",
    "### a. Reading Data:\n",
    "Data we are using in this project for outlier data is in the csv file ```32157738_outlier_data.csv```. This file can be parsed using the pandas into a dataframe. Data format is similar to that of the dirty data. from the data outliers are possible for very few columns such as Price, Distance to nearest storehouse and delivery cost."
   ]
  },
  {
   "cell_type": "code",
   "execution_count": 78,
   "metadata": {},
   "outputs": [
    {
     "name": "stdout",
     "output_type": "stream",
     "text": [
      "<class 'pandas.core.frame.DataFrame'>\n",
      "RangeIndex: 200 entries, 0 to 199\n",
      "Data columns (total 13 columns):\n",
      " #   Column                      Non-Null Count  Dtype  \n",
      "---  ------                      --------------  -----  \n",
      " 0   sales_id                    200 non-null    object \n",
      " 1   date                        200 non-null    object \n",
      " 2   time                        200 non-null    object \n",
      " 3   shopping_cart               200 non-null    object \n",
      " 4   price                       200 non-null    float64\n",
      " 5   parcel_size                 200 non-null    object \n",
      " 6   Customer_lat                200 non-null    float64\n",
      " 7   Customer_long               200 non-null    float64\n",
      " 8   isLoyaltyProgram            200 non-null    int64  \n",
      " 9   nearest_storehouse_id       200 non-null    int64  \n",
      " 10  nearest_storehouse          200 non-null    object \n",
      " 11  dist_to_nearest_storehouse  200 non-null    float64\n",
      " 12  delivery_cost               200 non-null    float64\n",
      "dtypes: float64(5), int64(2), object(6)\n",
      "memory usage: 20.4+ KB\n"
     ]
    }
   ],
   "source": [
    "outlier_data = pd.read_csv(\"./32157738_outlier_data.csv\")\n",
    "outlier_data.info()"
   ]
  },
  {
   "cell_type": "code",
   "execution_count": 79,
   "metadata": {},
   "outputs": [
    {
     "data": {
      "text/html": [
       "<div>\n",
       "<style scoped>\n",
       "    .dataframe tbody tr th:only-of-type {\n",
       "        vertical-align: middle;\n",
       "    }\n",
       "\n",
       "    .dataframe tbody tr th {\n",
       "        vertical-align: top;\n",
       "    }\n",
       "\n",
       "    .dataframe thead th {\n",
       "        text-align: right;\n",
       "    }\n",
       "</style>\n",
       "<table border=\"1\" class=\"dataframe\">\n",
       "  <thead>\n",
       "    <tr style=\"text-align: right;\">\n",
       "      <th></th>\n",
       "      <th>price</th>\n",
       "      <th>Customer_lat</th>\n",
       "      <th>Customer_long</th>\n",
       "      <th>isLoyaltyProgram</th>\n",
       "      <th>nearest_storehouse_id</th>\n",
       "      <th>dist_to_nearest_storehouse</th>\n",
       "      <th>delivery_cost</th>\n",
       "    </tr>\n",
       "  </thead>\n",
       "  <tbody>\n",
       "    <tr>\n",
       "      <th>count</th>\n",
       "      <td>200.000000</td>\n",
       "      <td>200.000000</td>\n",
       "      <td>200.000000</td>\n",
       "      <td>200.000000</td>\n",
       "      <td>200.000000</td>\n",
       "      <td>200.000000</td>\n",
       "      <td>200.000000</td>\n",
       "    </tr>\n",
       "    <tr>\n",
       "      <th>mean</th>\n",
       "      <td>3143.074050</td>\n",
       "      <td>-37.933008</td>\n",
       "      <td>145.251016</td>\n",
       "      <td>0.500000</td>\n",
       "      <td>3.290000</td>\n",
       "      <td>59.987300</td>\n",
       "      <td>10.869037</td>\n",
       "    </tr>\n",
       "    <tr>\n",
       "      <th>std</th>\n",
       "      <td>1256.236833</td>\n",
       "      <td>0.297179</td>\n",
       "      <td>0.529239</td>\n",
       "      <td>0.501255</td>\n",
       "      <td>0.943585</td>\n",
       "      <td>28.867241</td>\n",
       "      <td>11.276017</td>\n",
       "    </tr>\n",
       "    <tr>\n",
       "      <th>min</th>\n",
       "      <td>447.470000</td>\n",
       "      <td>-38.495440</td>\n",
       "      <td>144.451080</td>\n",
       "      <td>0.000000</td>\n",
       "      <td>2.000000</td>\n",
       "      <td>8.190000</td>\n",
       "      <td>-37.355500</td>\n",
       "    </tr>\n",
       "    <tr>\n",
       "      <th>25%</th>\n",
       "      <td>2162.460000</td>\n",
       "      <td>-38.182372</td>\n",
       "      <td>144.719982</td>\n",
       "      <td>0.000000</td>\n",
       "      <td>2.000000</td>\n",
       "      <td>36.262500</td>\n",
       "      <td>6.284250</td>\n",
       "    </tr>\n",
       "    <tr>\n",
       "      <th>50%</th>\n",
       "      <td>3067.175000</td>\n",
       "      <td>-37.920455</td>\n",
       "      <td>145.221165</td>\n",
       "      <td>0.500000</td>\n",
       "      <td>4.000000</td>\n",
       "      <td>57.215000</td>\n",
       "      <td>7.011000</td>\n",
       "    </tr>\n",
       "    <tr>\n",
       "      <th>75%</th>\n",
       "      <td>3999.122500</td>\n",
       "      <td>-37.672780</td>\n",
       "      <td>145.705200</td>\n",
       "      <td>1.000000</td>\n",
       "      <td>4.000000</td>\n",
       "      <td>79.520000</td>\n",
       "      <td>17.894250</td>\n",
       "    </tr>\n",
       "    <tr>\n",
       "      <th>max</th>\n",
       "      <td>6208.880000</td>\n",
       "      <td>-37.408840</td>\n",
       "      <td>146.176570</td>\n",
       "      <td>1.000000</td>\n",
       "      <td>4.000000</td>\n",
       "      <td>128.260000</td>\n",
       "      <td>61.394500</td>\n",
       "    </tr>\n",
       "  </tbody>\n",
       "</table>\n",
       "</div>"
      ],
      "text/plain": [
       "             price  Customer_lat  Customer_long  isLoyaltyProgram  \\\n",
       "count   200.000000    200.000000     200.000000        200.000000   \n",
       "mean   3143.074050    -37.933008     145.251016          0.500000   \n",
       "std    1256.236833      0.297179       0.529239          0.501255   \n",
       "min     447.470000    -38.495440     144.451080          0.000000   \n",
       "25%    2162.460000    -38.182372     144.719982          0.000000   \n",
       "50%    3067.175000    -37.920455     145.221165          0.500000   \n",
       "75%    3999.122500    -37.672780     145.705200          1.000000   \n",
       "max    6208.880000    -37.408840     146.176570          1.000000   \n",
       "\n",
       "       nearest_storehouse_id  dist_to_nearest_storehouse  delivery_cost  \n",
       "count             200.000000                  200.000000     200.000000  \n",
       "mean                3.290000                   59.987300      10.869037  \n",
       "std                 0.943585                   28.867241      11.276017  \n",
       "min                 2.000000                    8.190000     -37.355500  \n",
       "25%                 2.000000                   36.262500       6.284250  \n",
       "50%                 4.000000                   57.215000       7.011000  \n",
       "75%                 4.000000                   79.520000      17.894250  \n",
       "max                 4.000000                  128.260000      61.394500  "
      ]
     },
     "execution_count": 79,
     "metadata": {},
     "output_type": "execute_result"
    }
   ],
   "source": [
    "outlier_data.describe()"
   ]
  },
  {
   "cell_type": "markdown",
   "metadata": {},
   "source": [
    "### a. Reading Data:\n",
    "\n",
    "To check for outliers one of the best ways to do is using box plots. let us check for outliers in price first as it is not dependant on any other column except shopping_cart. we can plot box plots to see in which direction the outliers are present and how many.\n",
    "\n",
    "Outliers can be defined as items that are way farther away from the inter quartile range. Mathematically speaking in any distribution points that are outside the range of $(Q_{1}-1.5IQR,Q_{3}+1.5IQR)$ are outliers. Where $Q_1$ is first quartile value and $Q_3$ is third Quartile value and $IQR$ is inter quartile range. A box plot displays the same in a graphical manner. The box part of the graph signifies $Q_1$ to $Q_3$ and the whiskers of the plot signify the range of 1.5 IQR on either side.\n",
    "\n",
    "#### i) Price\n",
    "Let us start with price column to check for any outliers. I am plotting price on y chart of box plot and stores on x-axis this will give us outliers if any across stores. "
   ]
  },
  {
   "cell_type": "code",
   "execution_count": 80,
   "metadata": {},
   "outputs": [
    {
     "data": {
      "text/plain": [
       "<AxesSubplot:xlabel='nearest_storehouse', ylabel='price'>"
      ]
     },
     "execution_count": 80,
     "metadata": {},
     "output_type": "execute_result"
    },
    {
     "data": {
      "image/png": "[encoded data removed]",
      "text/plain": [
       "<Figure size 432x288 with 1 Axes>"
      ]
     },
     "metadata": {
      "needs_background": "light"
     },
     "output_type": "display_data"
    }
   ],
   "source": [
    "sns.boxplot(y = 'price',x = 'nearest_storehouse',data=outlier_data)"
   ]
  },
  {
   "cell_type": "markdown",
   "metadata": {},
   "source": [
    "From the plot above it is clear that there are no outliers in price column. \n",
    "\n",
    "#### ii) Distance to nearest store house\n",
    "\n",
    "Let us check for distance to nearest store house. Plotting distance on Y-axis and storehouses on X-axis."
   ]
  },
  {
   "cell_type": "code",
   "execution_count": 81,
   "metadata": {},
   "outputs": [
    {
     "data": {
      "text/plain": [
       "<AxesSubplot:xlabel='nearest_storehouse', ylabel='dist_to_nearest_storehouse'>"
      ]
     },
     "execution_count": 81,
     "metadata": {},
     "output_type": "execute_result"
    },
    {
     "data": {
      "image/png": "[encoded data removed]",
      "text/plain": [
       "<Figure size 432x288 with 1 Axes>"
      ]
     },
     "metadata": {
      "needs_background": "light"
     },
     "output_type": "display_data"
    }
   ],
   "source": [
    "sns.boxplot(y = 'dist_to_nearest_storehouse',x = 'nearest_storehouse',data=outlier_data)"
   ]
  },
  {
   "cell_type": "markdown",
   "metadata": {},
   "source": [
    "From the plot there are no outliers in Footscray and Sunshine but looks like there are some in St. Kilda. Let's filter for only that store and check. Howver if we look at the outlier it is still in range when compared to other stores."
   ]
  },
  {
   "cell_type": "code",
   "execution_count": 82,
   "metadata": {},
   "outputs": [
    {
     "name": "stdout",
     "output_type": "stream",
     "text": [
      "Number of rows that have nearest storehosue as St. Kilda are  6\n"
     ]
    },
    {
     "data": {
      "image/png": "[encoded data removed]",
      "text/plain": [
       "<Figure size 432x288 with 1 Axes>"
      ]
     },
     "metadata": {
      "needs_background": "light"
     },
     "output_type": "display_data"
    }
   ],
   "source": [
    "sns.boxplot(y = 'dist_to_nearest_storehouse',x = 'nearest_storehouse',\n",
    "            data=outlier_data[outlier_data['nearest_storehouse']=='St. Kilda'])\n",
    "print(\"Number of rows that have nearest storehosue as St. Kilda are \"\n",
    "      ,len(outlier_data[outlier_data['nearest_storehouse']=='St. Kilda']))\n"
   ]
  },
  {
   "cell_type": "markdown",
   "metadata": {},
   "source": [
    "Given the number of rows are only 6 and the value is still in range when compared to other store houses it does not make sense to remove that row. \n",
    "\n",
    "#### iii) Delivery cost \n",
    "\n",
    "Since Delivery is a multivariate variable we have to calculate the residuals and then remove the outliers from among them."
   ]
  },
  {
   "cell_type": "code",
   "execution_count": 83,
   "metadata": {},
   "outputs": [],
   "source": [
    "outlier_data['season'] =outlier_data.apply(lambda x:  \"Summer\" if x['date'][3:5] in ('01','02','12') else (\"Autumn\" if x['date'][3:5] in ('03','04','05') else (\"Winter\" if x['date'][3:5] in ('06','07','08') else(\"Spring\" if x['date'][3:5] in ('09','10','11') else \"season2\"))),axis=1)"
   ]
  },
  {
   "cell_type": "code",
   "execution_count": 84,
   "metadata": {},
   "outputs": [],
   "source": [
    "frames= [dirty_data_mod,missing_data_mod]\n",
    "df_linmod = pd.concat(frames)\n",
    "df_linmod = df_linmod[df_linmod['nearest_storehouse']!='Clayton']\n",
    "df_linmod = df_linmod.dropna(thresh=1)\n",
    "df_linmod = df_linmod.reset_index()"
   ]
  },
  {
   "cell_type": "markdown",
   "metadata": {},
   "source": [
    "Let us add the season column and then remove the columns that we do not need for the linear model. Assuming that the loyalty program value is correct in all of these rows let us get the non-adjusted delivery cost at each row and use it for the analysis. Since it is known that rows that have 1 in 'isLoyaltyProgram' gets a 10% discount. We will adjust these columns to actual values had they have no discount"
   ]
  },
  {
   "cell_type": "code",
   "execution_count": 85,
   "metadata": {},
   "outputs": [],
   "source": [
    "#adding seasons\n",
    "df_linmod['season'] =df_linmod.apply(lambda x:  \"Summer\" if x['date'][3:5] in ('01','02','12') \n",
    "                                     else (\"Autumn\" if x['date'][3:5] in ('03','04','05') \n",
    "                                           else (\"Winter\" if x['date'][3:5] in ('06','07','08') \n",
    "                                                 else(\"Spring\" if x['date'][3:5] in ('09','10','11') \n",
    "                                                      else \"season2\"))),axis=1)"
   ]
  },
  {
   "cell_type": "code",
   "execution_count": 86,
   "metadata": {},
   "outputs": [],
   "source": [
    "#adding adjusted delivery cost\n",
    "df_linmod['adj_delivery'] =df_linmod.apply(lambda x:  x['delivery_cost'] if x['isLoyaltyProgram']==0 \n",
    "                                           else x['delivery_cost']*10/9 ,axis=1)"
   ]
  },
  {
   "cell_type": "code",
   "execution_count": 87,
   "metadata": {},
   "outputs": [],
   "source": [
    "df_linmod = df_linmod.drop(['index','sales_id','date','time','shopping_cart','price','parcel_size',\n",
    "                           'Customer_lat','Customer_long','nearest_storehouse_id','delivery_cost','isLoyaltyProgram'],axis =1)"
   ]
  },
  {
   "cell_type": "code",
   "execution_count": 88,
   "metadata": {
    "scrolled": true
   },
   "outputs": [],
   "source": [
    "df_linmod = pd.get_dummies(df_linmod,prefix=['season'],columns=['season'])\n",
    "df_linmod = pd.get_dummies(df_linmod,prefix=['store'],columns=['nearest_storehouse'])\n",
    "df_linmod = df_linmod.dropna(thresh=1)"
   ]
  },
  {
   "cell_type": "code",
   "execution_count": 89,
   "metadata": {},
   "outputs": [],
   "source": [
    "df_linmod = df_linmod[~df_linmod['adj_delivery'].isna()]\n",
    "\n",
    "df_linmod = df_linmod.reset_index()\n",
    "#df_linmod"
   ]
  },
  {
   "cell_type": "code",
   "execution_count": 90,
   "metadata": {},
   "outputs": [],
   "source": [
    "#separating Dependent and Independent Variables for the modelling.\n",
    "#Independent Variables\n",
    "X_lin = df_linmod.loc[:,['dist_to_nearest_storehouse','season_Autumn','season_Spring','season_Summer',\n",
    "                         'season_Winter','store_Footscray','store_Sunshine','store_St. Kilda']]\n",
    "\n",
    "#Dependent Variables\n",
    "\n",
    "Y_lin = df_linmod.loc[:,['adj_delivery']]"
   ]
  },
  {
   "cell_type": "markdown",
   "metadata": {},
   "source": [
    "To see how well we can divide the data into test and train and calibarate our train and test size (Brownlee, 2020). Here I have changed my test_size between 0.15 to 0.3 and finally settled for 0.2 where my model is giving the least mean squared error."
   ]
  },
  {
   "cell_type": "code",
   "execution_count": 91,
   "metadata": {},
   "outputs": [],
   "source": [
    "from sklearn.model_selection import train_test_split\n",
    "X_train1, X_test1, y_train1, y_test1 = train_test_split(X_lin, Y_lin, test_size=0.20, random_state=1)\n",
    "\n",
    "#train_test_split(y, shuffle=False)"
   ]
  },
  {
   "cell_type": "code",
   "execution_count": 92,
   "metadata": {},
   "outputs": [
    {
     "data": {
      "text/plain": [
       "LinearRegression()"
      ]
     },
     "execution_count": 92,
     "metadata": {},
     "output_type": "execute_result"
    }
   ],
   "source": [
    "#Generating a linear model\n",
    "#import statsmodels.api as sm\n",
    "#import statsmodels.formula.api as smf\n",
    "from sklearn import linear_model\n",
    "regr_model = linear_model.LinearRegression()\n",
    "regr_model.fit(X_train1,y_train1)"
   ]
  },
  {
   "cell_type": "code",
   "execution_count": 93,
   "metadata": {},
   "outputs": [],
   "source": [
    "y_pred = regr_model.predict(X_test1)"
   ]
  },
  {
   "cell_type": "code",
   "execution_count": 94,
   "metadata": {},
   "outputs": [
    {
     "name": "stdout",
     "output_type": "stream",
     "text": [
      "0.737029870148515\n",
      "0.9804596569474658\n"
     ]
    }
   ],
   "source": [
    "from sklearn.metrics import mean_squared_error\n",
    "from sklearn.metrics import r2_score\n",
    "print(mean_squared_error(y_test1, y_pred))\n",
    "print(r2_score(y_test1, y_pred))\n"
   ]
  },
  {
   "cell_type": "code",
   "execution_count": 95,
   "metadata": {},
   "outputs": [],
   "source": [
    "outlier_data_calc = pd.get_dummies(outlier_data,prefix=['season'],columns=['season'])\n",
    "missing_data_calc = pd.get_dummies(outlier_data_calc,prefix=['store'],columns=['nearest_storehouse'])"
   ]
  },
  {
   "cell_type": "code",
   "execution_count": 96,
   "metadata": {},
   "outputs": [],
   "source": [
    "outlier_data_calc['calculated_delivery'] = 0\n",
    "\n",
    "outlier_data_calc['calculated_delivery'] = regr_model.predict(missing_data_calc.loc[:,['dist_to_nearest_storehouse','season_Autumn','season_Spring','season_Summer',\n",
    "                         'season_Winter','store_Footscray','store_Sunshine','store_St. Kilda']])\n",
    "\n",
    "outlier_data['calculated_delivery'] = outlier_data_calc['calculated_delivery']"
   ]
  },
  {
   "cell_type": "markdown",
   "metadata": {},
   "source": [
    "This calculated delivery has been not adjusted for loyalty, let us make that change and calculate the residuals"
   ]
  },
  {
   "cell_type": "code",
   "execution_count": 97,
   "metadata": {},
   "outputs": [],
   "source": [
    "outlier_data['calculated_delivery'] = outlier_data.apply(lambda x:  x['calculated_delivery'] if x['isLoyaltyProgram']==0 \n",
    "                                                         else x['calculated_delivery']*9/10 ,axis=1)"
   ]
  },
  {
   "cell_type": "markdown",
   "metadata": {},
   "source": [
    "After calculating the calculated delivery and adjusting it for loyalty, next calculate residual by calculating the difference between delivery_cost and calculated_delivery and plot it to see any outliers."
   ]
  },
  {
   "cell_type": "code",
   "execution_count": 98,
   "metadata": {},
   "outputs": [],
   "source": [
    "outlier_data['residuals'] = outlier_data['delivery_cost']-outlier_data['calculated_delivery']"
   ]
  },
  {
   "cell_type": "code",
   "execution_count": 99,
   "metadata": {
    "scrolled": true
   },
   "outputs": [
    {
     "data": {
      "text/plain": [
       "<AxesSubplot:ylabel='residuals'>"
      ]
     },
     "execution_count": 99,
     "metadata": {},
     "output_type": "execute_result"
    },
    {
     "data": {
      "image/png": "[encoded data removed]",
      "text/plain": [
       "<Figure size 432x288 with 1 Axes>"
      ]
     },
     "metadata": {
      "needs_background": "light"
     },
     "output_type": "display_data"
    }
   ],
   "source": [
    "sns.boxplot(y = 'residuals', data=outlier_data)"
   ]
  },
  {
   "cell_type": "markdown",
   "metadata": {},
   "source": [
    "From the look of the graph it is clear that there are a lot of outliers, let's calculate the lower and upper range for the box plot using a function below. We will calculate $Q_1, Q_3 and IQR$ and use it to calculate lower and upper range."
   ]
  },
  {
   "cell_type": "code",
   "execution_count": 100,
   "metadata": {},
   "outputs": [],
   "source": [
    "def outlier_treatment(datacolumn):\n",
    "    sorted(datacolumn)\n",
    "    Q1,Q3 = np.percentile(datacolumn , [25,75])\n",
    "    IQR = Q3 - Q1\n",
    "    lower_range = Q1 - (1.5 * IQR)\n",
    "    upper_range = Q3 + (1.5 * IQR)\n",
    "    return lower_range,upper_range"
   ]
  },
  {
   "cell_type": "code",
   "execution_count": 101,
   "metadata": {},
   "outputs": [],
   "source": [
    "filter_value = outlier_treatment(outlier_data['residuals'])"
   ]
  },
  {
   "cell_type": "markdown",
   "metadata": {},
   "source": [
    "Using the lower and upper range to filter out the rows with outlier residuals."
   ]
  },
  {
   "cell_type": "code",
   "execution_count": 102,
   "metadata": {},
   "outputs": [],
   "source": [
    "outlier_data1 = outlier_data[(outlier_data['residuals']>filter_value[0])&\n",
    "                             (outlier_data['residuals']<filter_value[1])].drop(columns =\n",
    "                                                                               ['season','calculated_delivery','residuals'],)"
   ]
  },
  {
   "cell_type": "markdown",
   "metadata": {},
   "source": [
    "Now that we have eliminated the outlier values let us right the final result into a csv file."
   ]
  },
  {
   "cell_type": "code",
   "execution_count": 103,
   "metadata": {},
   "outputs": [],
   "source": [
    "outlier_data1.to_csv('32157738_outlier_data_solution.csv',index=False)"
   ]
  },
  {
   "cell_type": "markdown",
   "metadata": {},
   "source": [
    "# work in progress"
   ]
  },
  {
   "cell_type": "markdown",
   "metadata": {},
   "source": [
    "### References :\n",
    "\n",
    "- Regex to validate date format dd/mm/yyyy. (2013, March 19). Stack Overflow. https://stackoverflow.com/questions/15491894/regex-to-validate-date-format-dd-mm-yyyy\n",
    "\n",
    "- Nair, P. (2019, June 12). Hands-on : Outlier Detection and Treatment in Python Using 1.5 IQR rule. Medium. https://medium.com/@prashant.nair2050/hands-on-outlier-detection-and-treatment-in-python-using-1-5-iqr-rule-f9ff1961a414\n",
    "\n",
    "- Brownlee, J. (2020, August 26). Train-Test Split for Evaluating Machine Learning Algorithms. Machine Learning Mastery. https://machinelearningmastery.com/train-test-split-for-evaluating-machine-learning-algorithms/"
   ]
  },
  {
   "cell_type": "code",
   "execution_count": null,
   "metadata": {},
   "outputs": [],
   "source": []
  }
 ],
 "metadata": {
  "kernelspec": {
   "display_name": "Python 3",
   "language": "python",
   "name": "python3"
  },
  "language_info": {
   "codemirror_mode": {
    "name": "ipython",
    "version": 3
   },
   "file_extension": ".py",
   "mimetype": "text/x-python",
   "name": "python",
   "nbconvert_exporter": "python",
   "pygments_lexer": "ipython3",
   "version": "3.8.5"
  }
 },
 "nbformat": 4,
 "nbformat_minor": 4
}
